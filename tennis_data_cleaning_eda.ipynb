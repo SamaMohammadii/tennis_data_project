{
 "cells": [
  {
   "cell_type": "code",
   "execution_count": 1,
   "metadata": {},
   "outputs": [],
   "source": [
    "import  pandas as pd\n",
    "import numpy as np\n",
    "import seaborn as sns\n",
    "import matplotlib.pyplot as plt\n",
    "from matplotlib import cycler\n",
    "import re"
   ]
  },
  {
   "cell_type": "code",
   "execution_count": 2,
   "metadata": {},
   "outputs": [],
   "source": [
    "#Set defualt setting for charts\n",
    "colors = cycler('color',\n",
    "               ['#EE6666', '#3388BB', '#9988DD',\n",
    "                '#EECC55', '#88BB44', '#FFBBBB', '#CECCD2', '#6C757D', '#F7EB2C'])\n",
    "\n",
    "plt.rcParams.update({\n",
    "    'axes.facecolor': '#FFFFFF',     \n",
    "    'axes.edgecolor': 'none',\n",
    "    'axes.axisbelow': True,\n",
    "    'axes.grid': True,\n",
    "    'axes.prop_cycle': colors,\n",
    "    'grid.color': 'lightgray',\n",
    "    'grid.linestyle': '--',\n",
    "    'grid.linewidth': 0.8,\n",
    "    'xtick.direction': 'out',\n",
    "    'xtick.color': '#6C757D',\n",
    "    'ytick.direction': 'out',\n",
    "    'ytick.color': '#6C757D',\n",
    "    'patch.edgecolor': '#E6E6E6',\n",
    "    'lines.linewidth': 2,\n",
    "    'font.family': 'Times New Roman',\n",
    "    'figure.autolayout': True\n",
    "\n",
    "})"
   ]
  },
  {
   "cell_type": "markdown",
   "metadata": {},
   "source": [
    "<div style = 'color>"
   ]
  },
  {
   "cell_type": "markdown",
   "metadata": {},
   "source": [
    "# **1. Tennis Players Frequency**"
   ]
  },
  {
   "cell_type": "markdown",
   "metadata": {},
   "source": [
    "### Load Data"
   ]
  },
  {
   "cell_type": "code",
   "execution_count": 3,
   "metadata": {},
   "outputs": [],
   "source": [
    "home_team = pd.read_csv('D:/Trains/tennis_project/data/input/match_home_team_info.csv')"
   ]
  },
  {
   "cell_type": "code",
   "execution_count": 4,
   "metadata": {},
   "outputs": [],
   "source": [
    "away_team = pd.read_csv('D:/Trains/tennis_project/data/input/match_away_team_info.csv')"
   ]
  },
  {
   "cell_type": "markdown",
   "metadata": {},
   "source": [
    "### Data Exploring and Cleaning"
   ]
  },
  {
   "cell_type": "markdown",
   "metadata": {},
   "source": [
    "#### Unify Names Format"
   ]
  },
  {
   "cell_type": "code",
   "execution_count": 5,
   "metadata": {},
   "outputs": [],
   "source": [
    "#Change all name to lower case, remove extra spaces and replace wrong ponctuations\n",
    "home_team['full_name'] = home_team['full_name'].str.title()\n",
    "home_team['full_name'] = home_team['full_name'].apply(lambda x: re.sub(r'\\s+', ' ', x.strip()))\n",
    "home_team['full_name'] = home_team['full_name'].str.replace(r'\\s*\\,\\s*', ', ', regex= True)"
   ]
  },
  {
   "cell_type": "code",
   "execution_count": 6,
   "metadata": {},
   "outputs": [],
   "source": [
    "away_team['full_name'] = away_team['full_name'].str.title()\n",
    "away_team['full_name'] = away_team['full_name'].apply(lambda x: re.sub(r'\\s+', ' ', x.strip()))\n",
    "away_team['full_name'] = away_team['full_name'].str.replace(r'\\s*\\,\\s*', ', ', regex= True)"
   ]
  },
  {
   "cell_type": "code",
   "execution_count": 7,
   "metadata": {},
   "outputs": [
    {
     "data": {
      "text/plain": [
       "(25610, 19)"
      ]
     },
     "execution_count": 7,
     "metadata": {},
     "output_type": "execute_result"
    }
   ],
   "source": [
    "home_team.shape"
   ]
  },
  {
   "cell_type": "markdown",
   "metadata": {},
   "source": [
    "##### Edit Mistakes in Full Name column"
   ]
  },
  {
   "cell_type": "code",
   "execution_count": 8,
   "metadata": {},
   "outputs": [],
   "source": [
    "def insert_comma(full_name):\n",
    "    if ',' in full_name:\n",
    "        return full_name\n",
    "    \n",
    "    parts = full_name.strip().split()\n",
    "    n = len(parts)\n",
    "\n",
    "    if n < 2:\n",
    "        return full_name\n",
    "    if n % 2 == 0:\n",
    "        idx = n // 2\n",
    "    else:\n",
    "        idx = n- 1\n",
    "    \n",
    "    first_part = ' '.join(parts[:idx])\n",
    "    second_part= ' '.join(parts[idx: ])\n",
    "    return f'{first_part}, {second_part}'"
   ]
  },
  {
   "cell_type": "code",
   "execution_count": 9,
   "metadata": {},
   "outputs": [],
   "source": [
    "#Home team\n",
    "home_team.insert(loc = 18, column = 'fix_full_name', value = home_team['full_name'].apply(insert_comma))\n",
    "home_team['fix_full_name'] = home_team['fix_full_name'].str.replace(r'\\s*\\,\\s*', ', ', regex= True)"
   ]
  },
  {
   "cell_type": "code",
   "execution_count": 10,
   "metadata": {},
   "outputs": [],
   "source": [
    "#Away team\n",
    "away_team.insert(loc = 18, column = 'fix_full_name', value = away_team['full_name'].apply(insert_comma))\n",
    "away_team['fix_full_name'] = away_team['fix_full_name'].str.replace(r'\\s*\\,\\s*', ', ', regex= True)"
   ]
  },
  {
   "cell_type": "code",
   "execution_count": 11,
   "metadata": {},
   "outputs": [],
   "source": [
    "home_team['fix_full_name'] = np.where((home_team['fix_full_name'] == 'Sun'), 'Sun ,L.', home_team['fix_full_name']) \n",
    "away_team['fix_full_name'] = np.where((away_team['fix_full_name'] == 'Sun'), 'Sun ,L.', away_team['fix_full_name']) "
   ]
  },
  {
   "cell_type": "code",
   "execution_count": 12,
   "metadata": {},
   "outputs": [],
   "source": [
    "away_team.insert(loc = 19, column = 'player_type', value = 'away')\n",
    "home_team.insert(loc = 19, column = 'player_type', value = 'home')"
   ]
  },
  {
   "cell_type": "markdown",
   "metadata": {},
   "source": [
    "##### Find and Drop Fully Duplicated Rows"
   ]
  },
  {
   "cell_type": "code",
   "execution_count": 13,
   "metadata": {},
   "outputs": [],
   "source": [
    "#For home team\n",
    "home_compare_cols = [col for col in home_team.columns if col != 'date']\n",
    "duplicated_rows = home_team.duplicated(subset = home_compare_cols, keep = False)\n",
    "home_team_sort = home_team.sort_values('match_id')\n",
    "home_team = home_team_sort.drop_duplicates(subset= home_compare_cols, keep= 'last')        "
   ]
  },
  {
   "cell_type": "code",
   "execution_count": 14,
   "metadata": {},
   "outputs": [],
   "source": [
    "#For away team\n",
    "away_compare_cols = [col for col in home_team.columns if col != 'date']\n",
    "duplicated_rows = away_team.duplicated(subset = away_compare_cols, keep = False)\n",
    "away_team = away_team.drop_duplicates(subset= away_compare_cols, keep= 'last') "
   ]
  },
  {
   "cell_type": "markdown",
   "metadata": {},
   "source": [
    "##### Find and Drop Fully Null Rows"
   ]
  },
  {
   "cell_type": "code",
   "execution_count": 15,
   "metadata": {},
   "outputs": [
    {
     "data": {
      "text/html": [
       "<div>\n",
       "<style scoped>\n",
       "    .dataframe tbody tr th:only-of-type {\n",
       "        vertical-align: middle;\n",
       "    }\n",
       "\n",
       "    .dataframe tbody tr th {\n",
       "        vertical-align: top;\n",
       "    }\n",
       "\n",
       "    .dataframe thead th {\n",
       "        text-align: right;\n",
       "    }\n",
       "</style>\n",
       "<table border=\"1\" class=\"dataframe\">\n",
       "  <thead>\n",
       "    <tr style=\"text-align: right;\">\n",
       "      <th></th>\n",
       "      <th>match_id</th>\n",
       "      <th>name</th>\n",
       "      <th>slug</th>\n",
       "      <th>gender</th>\n",
       "      <th>user_count</th>\n",
       "      <th>residence</th>\n",
       "      <th>birthplace</th>\n",
       "      <th>height</th>\n",
       "      <th>weight</th>\n",
       "      <th>plays</th>\n",
       "      <th>...</th>\n",
       "      <th>current_prize</th>\n",
       "      <th>total_prize</th>\n",
       "      <th>player_id</th>\n",
       "      <th>current_rank</th>\n",
       "      <th>name_code</th>\n",
       "      <th>country</th>\n",
       "      <th>full_name</th>\n",
       "      <th>fix_full_name</th>\n",
       "      <th>player_type</th>\n",
       "      <th>date</th>\n",
       "    </tr>\n",
       "  </thead>\n",
       "  <tbody>\n",
       "  </tbody>\n",
       "</table>\n",
       "<p>0 rows × 21 columns</p>\n",
       "</div>"
      ],
      "text/plain": [
       "Empty DataFrame\n",
       "Columns: [match_id, name, slug, gender, user_count, residence, birthplace, height, weight, plays, turned_pro, current_prize, total_prize, player_id, current_rank, name_code, country, full_name, fix_full_name, player_type, date]\n",
       "Index: []\n",
       "\n",
       "[0 rows x 21 columns]"
      ]
     },
     "execution_count": 15,
     "metadata": {},
     "output_type": "execute_result"
    }
   ],
   "source": [
    "#For home team\n",
    "null_compare_cols = [col for col in home_team.columns if col not in ['match_id', 'data']]\n",
    "home_team[home_team[null_compare_cols].isnull().all(axis=1)]    #There is no fully null row in home team"
   ]
  },
  {
   "cell_type": "code",
   "execution_count": 16,
   "metadata": {},
   "outputs": [
    {
     "data": {
      "text/html": [
       "<div>\n",
       "<style scoped>\n",
       "    .dataframe tbody tr th:only-of-type {\n",
       "        vertical-align: middle;\n",
       "    }\n",
       "\n",
       "    .dataframe tbody tr th {\n",
       "        vertical-align: top;\n",
       "    }\n",
       "\n",
       "    .dataframe thead th {\n",
       "        text-align: right;\n",
       "    }\n",
       "</style>\n",
       "<table border=\"1\" class=\"dataframe\">\n",
       "  <thead>\n",
       "    <tr style=\"text-align: right;\">\n",
       "      <th></th>\n",
       "      <th>match_id</th>\n",
       "      <th>name</th>\n",
       "      <th>slug</th>\n",
       "      <th>gender</th>\n",
       "      <th>user_count</th>\n",
       "      <th>residence</th>\n",
       "      <th>birthplace</th>\n",
       "      <th>height</th>\n",
       "      <th>weight</th>\n",
       "      <th>plays</th>\n",
       "      <th>...</th>\n",
       "      <th>current_prize</th>\n",
       "      <th>total_prize</th>\n",
       "      <th>player_id</th>\n",
       "      <th>current_rank</th>\n",
       "      <th>name_code</th>\n",
       "      <th>country</th>\n",
       "      <th>full_name</th>\n",
       "      <th>fix_full_name</th>\n",
       "      <th>player_type</th>\n",
       "      <th>date</th>\n",
       "    </tr>\n",
       "  </thead>\n",
       "  <tbody>\n",
       "  </tbody>\n",
       "</table>\n",
       "<p>0 rows × 21 columns</p>\n",
       "</div>"
      ],
      "text/plain": [
       "Empty DataFrame\n",
       "Columns: [match_id, name, slug, gender, user_count, residence, birthplace, height, weight, plays, turned_pro, current_prize, total_prize, player_id, current_rank, name_code, country, full_name, fix_full_name, player_type, date]\n",
       "Index: []\n",
       "\n",
       "[0 rows x 21 columns]"
      ]
     },
     "execution_count": 16,
     "metadata": {},
     "output_type": "execute_result"
    }
   ],
   "source": [
    "#For away team\n",
    "null_compare_cols = [col for col in away_team.columns if col not in ['match_id', 'data']]\n",
    "away_team[away_team[null_compare_cols].isnull().all(axis=1)]    #There is no fully null row in away team"
   ]
  },
  {
   "cell_type": "markdown",
   "metadata": {},
   "source": [
    "##### Find and Drop Fully Null Columns"
   ]
  },
  {
   "cell_type": "code",
   "execution_count": 17,
   "metadata": {},
   "outputs": [
    {
     "data": {
      "text/plain": [
       "match_id         False\n",
       "name             False\n",
       "slug             False\n",
       "gender           False\n",
       "user_count       False\n",
       "residence        False\n",
       "birthplace       False\n",
       "height           False\n",
       "weight           False\n",
       "plays            False\n",
       "turned_pro       False\n",
       "current_prize    False\n",
       "total_prize      False\n",
       "player_id        False\n",
       "current_rank     False\n",
       "name_code        False\n",
       "country          False\n",
       "full_name        False\n",
       "fix_full_name    False\n",
       "player_type      False\n",
       "date             False\n",
       "dtype: bool"
      ]
     },
     "execution_count": 17,
     "metadata": {},
     "output_type": "execute_result"
    }
   ],
   "source": [
    "#For home team\n",
    "home_team.isnull().all(axis = 0)   #There is no fully null column in home team"
   ]
  },
  {
   "cell_type": "code",
   "execution_count": 18,
   "metadata": {},
   "outputs": [
    {
     "data": {
      "text/plain": [
       "match_id         False\n",
       "name             False\n",
       "slug             False\n",
       "gender           False\n",
       "user_count       False\n",
       "residence        False\n",
       "birthplace       False\n",
       "height           False\n",
       "weight           False\n",
       "plays            False\n",
       "turned_pro       False\n",
       "current_prize    False\n",
       "total_prize      False\n",
       "player_id        False\n",
       "current_rank     False\n",
       "name_code        False\n",
       "country          False\n",
       "full_name        False\n",
       "fix_full_name    False\n",
       "player_type      False\n",
       "date             False\n",
       "dtype: bool"
      ]
     },
     "execution_count": 18,
     "metadata": {},
     "output_type": "execute_result"
    }
   ],
   "source": [
    "#For away team\n",
    "away_team.isnull().all(axis = 0)   #There is no fully null column in away team"
   ]
  },
  {
   "cell_type": "markdown",
   "metadata": {},
   "source": [
    "##### Find and Fill Null Names"
   ]
  },
  {
   "cell_type": "code",
   "execution_count": 19,
   "metadata": {},
   "outputs": [
    {
     "data": {
      "text/plain": [
       "np.int64(0)"
      ]
     },
     "execution_count": 19,
     "metadata": {},
     "output_type": "execute_result"
    }
   ],
   "source": [
    "#For away team\n",
    "away_team['fix_full_name'].isnull().sum()   #There is no null value in away team names"
   ]
  },
  {
   "cell_type": "code",
   "execution_count": 20,
   "metadata": {},
   "outputs": [
    {
     "data": {
      "text/plain": [
       "np.int64(0)"
      ]
     },
     "execution_count": 20,
     "metadata": {},
     "output_type": "execute_result"
    }
   ],
   "source": [
    "#For home team\n",
    "home_team['fix_full_name'].isnull().sum()   #There is no null value in home team names"
   ]
  },
  {
   "cell_type": "markdown",
   "metadata": {},
   "source": [
    "#### Counting Players "
   ]
  },
  {
   "cell_type": "code",
   "execution_count": 21,
   "metadata": {},
   "outputs": [
    {
     "data": {
      "text/html": [
       "<div>\n",
       "<style scoped>\n",
       "    .dataframe tbody tr th:only-of-type {\n",
       "        vertical-align: middle;\n",
       "    }\n",
       "\n",
       "    .dataframe tbody tr th {\n",
       "        vertical-align: top;\n",
       "    }\n",
       "\n",
       "    .dataframe thead th {\n",
       "        text-align: right;\n",
       "    }\n",
       "</style>\n",
       "<table border=\"1\" class=\"dataframe\">\n",
       "  <thead>\n",
       "    <tr style=\"text-align: right;\">\n",
       "      <th></th>\n",
       "      <th>fix_full_name</th>\n",
       "      <th>count</th>\n",
       "    </tr>\n",
       "  </thead>\n",
       "  <tbody>\n",
       "    <tr>\n",
       "      <th>1895</th>\n",
       "      <td>Sakellaridi, Sapfo</td>\n",
       "      <td>36</td>\n",
       "    </tr>\n",
       "    <tr>\n",
       "      <th>1632</th>\n",
       "      <td>Parizzia, Nicolas</td>\n",
       "      <td>35</td>\n",
       "    </tr>\n",
       "    <tr>\n",
       "      <th>986</th>\n",
       "      <td>Jianu, Filip Cristian</td>\n",
       "      <td>34</td>\n",
       "    </tr>\n",
       "    <tr>\n",
       "      <th>13</th>\n",
       "      <td>Aguilar Cardozo, Joaquin</td>\n",
       "      <td>28</td>\n",
       "    </tr>\n",
       "    <tr>\n",
       "      <th>790</th>\n",
       "      <td>Gonzalez Fernandez, Mario</td>\n",
       "      <td>26</td>\n",
       "    </tr>\n",
       "    <tr>\n",
       "      <th>1296</th>\n",
       "      <td>Makhlouf, Mohamed Nazim</td>\n",
       "      <td>26</td>\n",
       "    </tr>\n",
       "    <tr>\n",
       "      <th>248</th>\n",
       "      <td>Bosio, Gabriele</td>\n",
       "      <td>26</td>\n",
       "    </tr>\n",
       "    <tr>\n",
       "      <th>526</th>\n",
       "      <td>Dellien Velasco, Murkel Alejandro</td>\n",
       "      <td>25</td>\n",
       "    </tr>\n",
       "    <tr>\n",
       "      <th>149</th>\n",
       "      <td>Basilashvili, Nikoloz</td>\n",
       "      <td>25</td>\n",
       "    </tr>\n",
       "    <tr>\n",
       "      <th>1982</th>\n",
       "      <td>Shapatava, Sofia</td>\n",
       "      <td>25</td>\n",
       "    </tr>\n",
       "  </tbody>\n",
       "</table>\n",
       "</div>"
      ],
      "text/plain": [
       "                          fix_full_name  count\n",
       "1895                 Sakellaridi, Sapfo     36\n",
       "1632                  Parizzia, Nicolas     35\n",
       "986               Jianu, Filip Cristian     34\n",
       "13             Aguilar Cardozo, Joaquin     28\n",
       "790           Gonzalez Fernandez, Mario     26\n",
       "1296            Makhlouf, Mohamed Nazim     26\n",
       "248                     Bosio, Gabriele     26\n",
       "526   Dellien Velasco, Murkel Alejandro     25\n",
       "149               Basilashvili, Nikoloz     25\n",
       "1982                   Shapatava, Sofia     25"
      ]
     },
     "execution_count": 21,
     "metadata": {},
     "output_type": "execute_result"
    }
   ],
   "source": [
    "#For home team\n",
    "group_home_names = home_team.groupby('fix_full_name', as_index= False).agg(count = ('fix_full_name', 'count')).sort_values('count', ascending= False)\n",
    "group_home_names.iloc[0:10]"
   ]
  },
  {
   "cell_type": "code",
   "execution_count": 22,
   "metadata": {},
   "outputs": [
    {
     "data": {
      "text/html": [
       "<div>\n",
       "<style scoped>\n",
       "    .dataframe tbody tr th:only-of-type {\n",
       "        vertical-align: middle;\n",
       "    }\n",
       "\n",
       "    .dataframe tbody tr th {\n",
       "        vertical-align: top;\n",
       "    }\n",
       "\n",
       "    .dataframe thead th {\n",
       "        text-align: right;\n",
       "    }\n",
       "</style>\n",
       "<table border=\"1\" class=\"dataframe\">\n",
       "  <thead>\n",
       "    <tr style=\"text-align: right;\">\n",
       "      <th></th>\n",
       "      <th>fix_full_name</th>\n",
       "      <th>count</th>\n",
       "    </tr>\n",
       "  </thead>\n",
       "  <tbody>\n",
       "    <tr>\n",
       "      <th>1738</th>\n",
       "      <td>Popko, Dmitry</td>\n",
       "      <td>39</td>\n",
       "    </tr>\n",
       "    <tr>\n",
       "      <th>880</th>\n",
       "      <td>Hoang, Antoine</td>\n",
       "      <td>27</td>\n",
       "    </tr>\n",
       "    <tr>\n",
       "      <th>2243</th>\n",
       "      <td>Ursu, Vadym</td>\n",
       "      <td>27</td>\n",
       "    </tr>\n",
       "    <tr>\n",
       "      <th>1827</th>\n",
       "      <td>Ribero, Franco</td>\n",
       "      <td>26</td>\n",
       "    </tr>\n",
       "    <tr>\n",
       "      <th>438</th>\n",
       "      <td>Collins, Danielle</td>\n",
       "      <td>26</td>\n",
       "    </tr>\n",
       "    <tr>\n",
       "      <th>535</th>\n",
       "      <td>Demidova, Diana</td>\n",
       "      <td>25</td>\n",
       "    </tr>\n",
       "    <tr>\n",
       "      <th>1248</th>\n",
       "      <td>Loge, Jack</td>\n",
       "      <td>24</td>\n",
       "    </tr>\n",
       "    <tr>\n",
       "      <th>428</th>\n",
       "      <td>Clarke, Jay</td>\n",
       "      <td>24</td>\n",
       "    </tr>\n",
       "    <tr>\n",
       "      <th>939</th>\n",
       "      <td>Imamura, Saki</td>\n",
       "      <td>24</td>\n",
       "    </tr>\n",
       "    <tr>\n",
       "      <th>1916</th>\n",
       "      <td>Sakellaridis, Stefanos</td>\n",
       "      <td>24</td>\n",
       "    </tr>\n",
       "  </tbody>\n",
       "</table>\n",
       "</div>"
      ],
      "text/plain": [
       "               fix_full_name  count\n",
       "1738           Popko, Dmitry     39\n",
       "880           Hoang, Antoine     27\n",
       "2243             Ursu, Vadym     27\n",
       "1827          Ribero, Franco     26\n",
       "438        Collins, Danielle     26\n",
       "535          Demidova, Diana     25\n",
       "1248              Loge, Jack     24\n",
       "428              Clarke, Jay     24\n",
       "939            Imamura, Saki     24\n",
       "1916  Sakellaridis, Stefanos     24"
      ]
     },
     "execution_count": 22,
     "metadata": {},
     "output_type": "execute_result"
    }
   ],
   "source": [
    "#For away team\n",
    "group_away_names = away_team.groupby('fix_full_name', as_index= False).agg(count = ('fix_full_name', 'count')).sort_values('count', ascending= False)\n",
    "group_away_names.iloc[0:10]"
   ]
  },
  {
   "cell_type": "markdown",
   "metadata": {},
   "source": [
    "#### Identify Mistake in Player Names"
   ]
  },
  {
   "cell_type": "code",
   "execution_count": 23,
   "metadata": {},
   "outputs": [
    {
     "data": {
      "text/plain": [
       "player_id\n",
       "82133     2\n",
       "198197    2\n",
       "254227    2\n",
       "353488    2\n",
       "Name: fix_full_name, dtype: int64"
      ]
     },
     "execution_count": 23,
     "metadata": {},
     "output_type": "execute_result"
    }
   ],
   "source": [
    "#Find names which are same but write in two ways\n",
    "player_counts = home_team.groupby('player_id')['fix_full_name'].nunique()\n",
    "\n",
    "multi_player_matches = player_counts[player_counts > 1]\n",
    "multi_player_matches"
   ]
  },
  {
   "cell_type": "code",
   "execution_count": 24,
   "metadata": {},
   "outputs": [],
   "source": [
    "#Edit names\n",
    "name_corrections = {\n",
    "    82133: 'Dellien Velasco, Murkel Alejandro',\n",
    "    198197: 'Arango, Emiliana',   \n",
    "    254227: 'Yunchaokete, Bu',\n",
    "    353488: 'Geerlings Martinez, Ariana'\n",
    "}\n",
    "\n",
    "home_team.loc[:, 'fix_full_name'] = home_team.apply(lambda row: name_corrections.get(row['player_id'], row['fix_full_name']),axis=1)"
   ]
  },
  {
   "cell_type": "code",
   "execution_count": 25,
   "metadata": {},
   "outputs": [
    {
     "data": {
      "text/plain": [
       "player_id\n",
       "82133     2\n",
       "168420    2\n",
       "196922    2\n",
       "391794    2\n",
       "Name: fix_full_name, dtype: int64"
      ]
     },
     "execution_count": 25,
     "metadata": {},
     "output_type": "execute_result"
    }
   ],
   "source": [
    "#Find names which are same but write in two ways\n",
    "player_counts = away_team.groupby('player_id')['fix_full_name'].nunique()\n",
    "\n",
    "multi_player_matches = player_counts[player_counts > 1]          \n",
    "multi_player_matches"
   ]
  },
  {
   "cell_type": "code",
   "execution_count": 26,
   "metadata": {},
   "outputs": [],
   "source": [
    "#Edit names\n",
    "name_corrections = {\n",
    "    82133: 'Dellien Velasco, Murkel Alejandro',\n",
    "    168420: 'Andrade, Andres',   \n",
    "    196922: 'Sanchez Jover, Carlos',\n",
    "    391794: 'Schiessl, Joao Eduardo'\n",
    "}\n",
    "\n",
    "away_team.loc[:, 'fix_full_name'] = away_team.apply(lambda row: name_corrections.get(row['player_id'], row['fix_full_name']),axis=1)"
   ]
  },
  {
   "cell_type": "markdown",
   "metadata": {},
   "source": [
    "#### Unique Players "
   ]
  },
  {
   "cell_type": "code",
   "execution_count": 27,
   "metadata": {},
   "outputs": [],
   "source": [
    "#Concat home and away dataframes to find number of players in this dataset\n",
    "concat_all_players = pd.concat([away_team, home_team], ignore_index= True, axis = 0)\n",
    "# concat_all_players.to_csv('D:/Trains/tennis_project/data/output/concat_away_home_team.csv')"
   ]
  },
  {
   "cell_type": "code",
   "execution_count": 28,
   "metadata": {},
   "outputs": [
    {
     "data": {
      "text/html": [
       "<div>\n",
       "<style scoped>\n",
       "    .dataframe tbody tr th:only-of-type {\n",
       "        vertical-align: middle;\n",
       "    }\n",
       "\n",
       "    .dataframe tbody tr th {\n",
       "        vertical-align: top;\n",
       "    }\n",
       "\n",
       "    .dataframe thead th {\n",
       "        text-align: right;\n",
       "    }\n",
       "</style>\n",
       "<table border=\"1\" class=\"dataframe\">\n",
       "  <thead>\n",
       "    <tr style=\"text-align: right;\">\n",
       "      <th></th>\n",
       "      <th>fix_full_name</th>\n",
       "      <th>count_matches</th>\n",
       "    </tr>\n",
       "  </thead>\n",
       "  <tbody>\n",
       "    <tr>\n",
       "      <th>1851</th>\n",
       "      <td>Popko, Dmitry</td>\n",
       "      <td>50</td>\n",
       "    </tr>\n",
       "    <tr>\n",
       "      <th>1509</th>\n",
       "      <td>Merida Aguilar, Daniel</td>\n",
       "      <td>41</td>\n",
       "    </tr>\n",
       "    <tr>\n",
       "      <th>417</th>\n",
       "      <td>Chidekh, Clement</td>\n",
       "      <td>41</td>\n",
       "    </tr>\n",
       "    <tr>\n",
       "      <th>703</th>\n",
       "      <td>Ferrari, Francesco</td>\n",
       "      <td>41</td>\n",
       "    </tr>\n",
       "    <tr>\n",
       "      <th>449</th>\n",
       "      <td>Clarke, Jay</td>\n",
       "      <td>41</td>\n",
       "    </tr>\n",
       "    <tr>\n",
       "      <th>...</th>\n",
       "      <td>...</td>\n",
       "      <td>...</td>\n",
       "    </tr>\n",
       "    <tr>\n",
       "      <th>5</th>\n",
       "      <td>Adaloglou, Magdalini</td>\n",
       "      <td>1</td>\n",
       "    </tr>\n",
       "    <tr>\n",
       "      <th>155</th>\n",
       "      <td>Basel, Valentin</td>\n",
       "      <td>1</td>\n",
       "    </tr>\n",
       "    <tr>\n",
       "      <th>18</th>\n",
       "      <td>Ahn, Alyssa</td>\n",
       "      <td>1</td>\n",
       "    </tr>\n",
       "    <tr>\n",
       "      <th>2607</th>\n",
       "      <td>Zheng, Saisai</td>\n",
       "      <td>1</td>\n",
       "    </tr>\n",
       "    <tr>\n",
       "      <th>26</th>\n",
       "      <td>Akay, Cihan</td>\n",
       "      <td>1</td>\n",
       "    </tr>\n",
       "  </tbody>\n",
       "</table>\n",
       "<p>2644 rows × 2 columns</p>\n",
       "</div>"
      ],
      "text/plain": [
       "               fix_full_name  count_matches\n",
       "1851           Popko, Dmitry             50\n",
       "1509  Merida Aguilar, Daniel             41\n",
       "417         Chidekh, Clement             41\n",
       "703       Ferrari, Francesco             41\n",
       "449              Clarke, Jay             41\n",
       "...                      ...            ...\n",
       "5       Adaloglou, Magdalini              1\n",
       "155          Basel, Valentin              1\n",
       "18               Ahn, Alyssa              1\n",
       "2607           Zheng, Saisai              1\n",
       "26               Akay, Cihan              1\n",
       "\n",
       "[2644 rows x 2 columns]"
      ]
     },
     "execution_count": 28,
     "metadata": {},
     "output_type": "execute_result"
    }
   ],
   "source": [
    "(concat_all_players.groupby('fix_full_name', as_index= False)\n",
    " .agg(count_matches = ('fix_full_name', 'count'))\n",
    " .sort_values('count_matches', ascending= False))"
   ]
  },
  {
   "cell_type": "code",
   "execution_count": 29,
   "metadata": {},
   "outputs": [
    {
     "data": {
      "text/html": [
       "<div>\n",
       "<style scoped>\n",
       "    .dataframe tbody tr th:only-of-type {\n",
       "        vertical-align: middle;\n",
       "    }\n",
       "\n",
       "    .dataframe tbody tr th {\n",
       "        vertical-align: top;\n",
       "    }\n",
       "\n",
       "    .dataframe thead th {\n",
       "        text-align: right;\n",
       "    }\n",
       "</style>\n",
       "<table border=\"1\" class=\"dataframe\">\n",
       "  <thead>\n",
       "    <tr style=\"text-align: right;\">\n",
       "      <th></th>\n",
       "      <th>count_gender</th>\n",
       "    </tr>\n",
       "    <tr>\n",
       "      <th>gender</th>\n",
       "      <th></th>\n",
       "    </tr>\n",
       "  </thead>\n",
       "  <tbody>\n",
       "    <tr>\n",
       "      <th>F</th>\n",
       "      <td>1234</td>\n",
       "    </tr>\n",
       "    <tr>\n",
       "      <th>M</th>\n",
       "      <td>1404</td>\n",
       "    </tr>\n",
       "  </tbody>\n",
       "</table>\n",
       "</div>"
      ],
      "text/plain": [
       "        count_gender\n",
       "gender              \n",
       "F               1234\n",
       "M               1404"
      ]
     },
     "execution_count": 29,
     "metadata": {},
     "output_type": "execute_result"
    }
   ],
   "source": [
    "#Count players group by gender\n",
    "unique_players = concat_all_players[['fix_full_name', 'gender']].drop_duplicates()\n",
    "unique_players.groupby(['gender']).agg(count_gender = ('gender', 'count'))"
   ]
  },
  {
   "cell_type": "code",
   "execution_count": 30,
   "metadata": {},
   "outputs": [],
   "source": [
    "#Create list of home / away players\n",
    "home_players_list = [name for name in home_team['fix_full_name'].unique()] \n",
    "away_players_list = [name for name in away_team['fix_full_name'].unique()]    "
   ]
  },
  {
   "cell_type": "code",
   "execution_count": 31,
   "metadata": {},
   "outputs": [
    {
     "data": {
      "text/plain": [
       "2282"
      ]
     },
     "execution_count": 31,
     "metadata": {},
     "output_type": "execute_result"
    }
   ],
   "source": [
    "#Number of players as both home and away type \n",
    "common_players = set(home_players_list) & set(away_players_list)\n",
    "len(common_players)"
   ]
  },
  {
   "cell_type": "code",
   "execution_count": 32,
   "metadata": {},
   "outputs": [
    {
     "data": {
      "text/plain": [
       "165"
      ]
     },
     "execution_count": 32,
     "metadata": {},
     "output_type": "execute_result"
    }
   ],
   "source": [
    "#Number of players just as home type\n",
    "only_homes = set(home_players_list) - set(away_players_list)\n",
    "len(only_homes)"
   ]
  },
  {
   "cell_type": "code",
   "execution_count": 33,
   "metadata": {},
   "outputs": [
    {
     "data": {
      "text/plain": [
       "197"
      ]
     },
     "execution_count": 33,
     "metadata": {},
     "output_type": "execute_result"
    }
   ],
   "source": [
    "#Number of players just as away type\n",
    "only_awayes = set(away_players_list) - set(home_players_list)\n",
    "len(only_awayes)"
   ]
  },
  {
   "cell_type": "markdown",
   "metadata": {},
   "source": [
    "|       Metric      |  Count |\n",
    "|-------------------|--------|\n",
    "| Total players     |  2648  |\n",
    "| Female players    |  1234  |\n",
    "| Male players      |  1404  |\n",
    "| Play as home side |  165   |\n",
    "| Play as away side |  201   |\n",
    "| Play as both sides|  2282  |"
   ]
  },
  {
   "cell_type": "markdown",
   "metadata": {},
   "source": [
    "______________________"
   ]
  },
  {
   "cell_type": "markdown",
   "metadata": {},
   "source": [
    "# **2. Height of Players**"
   ]
  },
  {
   "cell_type": "markdown",
   "metadata": {},
   "source": [
    "#### Load Data"
   ]
  },
  {
   "cell_type": "code",
   "execution_count": 34,
   "metadata": {},
   "outputs": [],
   "source": [
    "home_needed_cols = home_team[['match_id', 'gender', 'height', 'country', 'fix_full_name', 'player_type']]\n",
    "away_needed_cols = away_team[['match_id', 'gender', 'height', 'country', 'fix_full_name', 'player_type']]\n",
    "height_concat = pd.concat([home_needed_cols, away_needed_cols], ignore_index= True, axis = 0)\n",
    "# height_concat.to_csv('D:/Trains/tennis_project/data/output/concat_height.csv')"
   ]
  },
  {
   "cell_type": "code",
   "execution_count": 35,
   "metadata": {},
   "outputs": [
    {
     "data": {
      "text/plain": [
       "count    19613.000000\n",
       "mean         1.823117\n",
       "std          0.078820\n",
       "min          1.570000\n",
       "25%          1.780000\n",
       "50%          1.830000\n",
       "75%          1.880000\n",
       "max          2.080000\n",
       "Name: height, dtype: float64"
      ]
     },
     "execution_count": 35,
     "metadata": {},
     "output_type": "execute_result"
    }
   ],
   "source": [
    "height_concat['height'].describe()"
   ]
  },
  {
   "cell_type": "markdown",
   "metadata": {},
   "source": [
    "#### Fix Some Wrong Heights"
   ]
  },
  {
   "cell_type": "code",
   "execution_count": 36,
   "metadata": {},
   "outputs": [],
   "source": [
    "#Edit heights where there is more than one height recorded for every player\n",
    "height_concat['height'] = np.where((height_concat['fix_full_name'] == 'Andreev, Adrian'), 1.8, height_concat['height'])\n",
    "height_concat['height'] = np.where((height_concat['fix_full_name'] == 'Bellucci, Mattia'), 1.75, height_concat['height'])\n",
    "height_concat['height'] = np.where((height_concat['fix_full_name'] == 'Bigun, Kaylan'), 1.83, height_concat['height'])\n",
    "height_concat['height'] = np.where((height_concat['fix_full_name'] == 'Campana Lee, Gerard'), 1.83, height_concat['height'])\n",
    "height_concat['height'] = np.where((height_concat['fix_full_name'] == 'Cerundolo, Juan Manuel'), 1.83, height_concat['height'])\n",
    "height_concat['height'] = np.where((height_concat['fix_full_name'] == 'Damas, Miguel'), 2.08, height_concat['height'])\n",
    "height_concat['height'] = np.where((height_concat['fix_full_name'] == 'Jarry, Nicolas'), 2.01, height_concat['height'])\n",
    "height_concat['height'] = np.where((height_concat['fix_full_name'] == 'Kumar, Omni'), 1.73, height_concat['height'])\n",
    "height_concat['height'] = np.where((height_concat['fix_full_name'] == 'Rodriguez, Lorenzo Joaquin'), 1.96, height_concat['height'])\n",
    "height_concat['height'] = np.where((height_concat['fix_full_name'] == 'Slump, Stijn'), 1.88, height_concat['height'])\n",
    "height_concat['height'] = np.where((height_concat['fix_full_name'] == 'Smith, Keegan'), 2.01, height_concat['height'])\n",
    "height_concat['height'] = np.where((height_concat['fix_full_name'] == 'Tabacco, Giorgio'), 2.03, height_concat['height'])\n",
    "height_concat['height'] = np.where((height_concat['fix_full_name'] == 'Tu, Li'), 1.83, height_concat['height'])\n",
    "height_concat['height'] = np.where((height_concat['fix_full_name'] == 'Vavassori, Andrea'), 1.93, height_concat['height'])\n",
    "height_concat['height'] = np.where((height_concat['fix_full_name'] == 'Zanellato, Nicolas'), 1.68, height_concat['height'])"
   ]
  },
  {
   "cell_type": "markdown",
   "metadata": {},
   "source": [
    "#### Find and Fill Null Heights"
   ]
  },
  {
   "cell_type": "code",
   "execution_count": 37,
   "metadata": {},
   "outputs": [
    {
     "data": {
      "text/plain": [
       "np.int64(15168)"
      ]
     },
     "execution_count": 37,
     "metadata": {},
     "output_type": "execute_result"
    }
   ],
   "source": [
    "height_concat['height'].isnull().sum()"
   ]
  },
  {
   "cell_type": "code",
   "execution_count": 38,
   "metadata": {},
   "outputs": [
    {
     "name": "stdout",
     "output_type": "stream",
     "text": [
      "average height is: 1.8234069239789934\n",
      "min height is    : 1.57\n",
      "max height is    : 2.08\n",
      "median height is : 1.83\n",
      "mode height is   : 0    1.83\n",
      "Name: height, dtype: float64\n"
     ]
    }
   ],
   "source": [
    "#Statistics on Heights column\n",
    "mean = height_concat['height'].mean()\n",
    "min = height_concat['height'].min()\n",
    "max = height_concat['height'].max()\n",
    "median = height_concat['height'].median()\n",
    "mode = height_concat['height'].mode()\n",
    "\n",
    "print(f'average height is: {mean}')\n",
    "print(f'min height is    : {min}')\n",
    "print(f'max height is    : {max}')\n",
    "print(f'median height is : {median}')\n",
    "print(f'mode height is   : {mode}')"
   ]
  },
  {
   "cell_type": "code",
   "execution_count": 39,
   "metadata": {},
   "outputs": [
    {
     "data": {
      "text/html": [
       "<div>\n",
       "<style scoped>\n",
       "    .dataframe tbody tr th:only-of-type {\n",
       "        vertical-align: middle;\n",
       "    }\n",
       "\n",
       "    .dataframe tbody tr th {\n",
       "        vertical-align: top;\n",
       "    }\n",
       "\n",
       "    .dataframe thead th {\n",
       "        text-align: right;\n",
       "    }\n",
       "</style>\n",
       "<table border=\"1\" class=\"dataframe\">\n",
       "  <thead>\n",
       "    <tr style=\"text-align: right;\">\n",
       "      <th></th>\n",
       "      <th>country</th>\n",
       "      <th>gender</th>\n",
       "      <th>group_avg_height</th>\n",
       "    </tr>\n",
       "  </thead>\n",
       "  <tbody>\n",
       "    <tr>\n",
       "      <th>173</th>\n",
       "      <td>Zimbabwe</td>\n",
       "      <td>M</td>\n",
       "      <td>1.966364</td>\n",
       "    </tr>\n",
       "    <tr>\n",
       "      <th>141</th>\n",
       "      <td>Slovenia</td>\n",
       "      <td>M</td>\n",
       "      <td>1.958571</td>\n",
       "    </tr>\n",
       "    <tr>\n",
       "      <th>96</th>\n",
       "      <td>Luxembourg</td>\n",
       "      <td>M</td>\n",
       "      <td>1.933704</td>\n",
       "    </tr>\n",
       "    <tr>\n",
       "      <th>3</th>\n",
       "      <td>Antigua and Barbuda</td>\n",
       "      <td>M</td>\n",
       "      <td>1.930000</td>\n",
       "    </tr>\n",
       "    <tr>\n",
       "      <th>75</th>\n",
       "      <td>Ireland</td>\n",
       "      <td>M</td>\n",
       "      <td>1.930000</td>\n",
       "    </tr>\n",
       "  </tbody>\n",
       "</table>\n",
       "</div>"
      ],
      "text/plain": [
       "                 country gender  group_avg_height\n",
       "173             Zimbabwe      M          1.966364\n",
       "141             Slovenia      M          1.958571\n",
       "96            Luxembourg      M          1.933704\n",
       "3    Antigua and Barbuda      M          1.930000\n",
       "75               Ireland      M          1.930000"
      ]
     },
     "execution_count": 39,
     "metadata": {},
     "output_type": "execute_result"
    }
   ],
   "source": [
    "#Calculate average height base on country and gender\n",
    "groupby_heigh = (height_concat.groupby(['country', 'gender'], as_index=False)['height']\n",
    "                                        .agg('mean')\n",
    "                                        .rename(columns={'height': 'group_avg_height'})\n",
    "                                        .sort_values('group_avg_height', ascending = False))\n",
    "groupby_heigh.head(5)"
   ]
  },
  {
   "cell_type": "code",
   "execution_count": 40,
   "metadata": {},
   "outputs": [
    {
     "data": {
      "text/html": [
       "<div>\n",
       "<style scoped>\n",
       "    .dataframe tbody tr th:only-of-type {\n",
       "        vertical-align: middle;\n",
       "    }\n",
       "\n",
       "    .dataframe tbody tr th {\n",
       "        vertical-align: top;\n",
       "    }\n",
       "\n",
       "    .dataframe thead th {\n",
       "        text-align: right;\n",
       "    }\n",
       "</style>\n",
       "<table border=\"1\" class=\"dataframe\">\n",
       "  <thead>\n",
       "    <tr style=\"text-align: right;\">\n",
       "      <th></th>\n",
       "      <th>country</th>\n",
       "      <th>country_avg_height</th>\n",
       "    </tr>\n",
       "  </thead>\n",
       "  <tbody>\n",
       "    <tr>\n",
       "      <th>100</th>\n",
       "      <td>Zimbabwe</td>\n",
       "      <td>1.966364</td>\n",
       "    </tr>\n",
       "    <tr>\n",
       "      <th>56</th>\n",
       "      <td>Luxembourg</td>\n",
       "      <td>1.933704</td>\n",
       "    </tr>\n",
       "    <tr>\n",
       "      <th>2</th>\n",
       "      <td>Antigua and Barbuda</td>\n",
       "      <td>1.930000</td>\n",
       "    </tr>\n",
       "    <tr>\n",
       "      <th>42</th>\n",
       "      <td>Ireland</td>\n",
       "      <td>1.930000</td>\n",
       "    </tr>\n",
       "    <tr>\n",
       "      <th>28</th>\n",
       "      <td>El Salvador</td>\n",
       "      <td>1.930000</td>\n",
       "    </tr>\n",
       "  </tbody>\n",
       "</table>\n",
       "</div>"
      ],
      "text/plain": [
       "                 country  country_avg_height\n",
       "100             Zimbabwe            1.966364\n",
       "56            Luxembourg            1.933704\n",
       "2    Antigua and Barbuda            1.930000\n",
       "42               Ireland            1.930000\n",
       "28           El Salvador            1.930000"
      ]
     },
     "execution_count": 40,
     "metadata": {},
     "output_type": "execute_result"
    }
   ],
   "source": [
    "#Calculate average height base on country \n",
    "country_avg = (height_concat.groupby('country', as_index=False)['height']\n",
    "               .agg('mean')\n",
    "               .rename(columns={'height': 'country_avg_height'})\n",
    "               .sort_values('country_avg_height', ascending = False))\n",
    "country_avg.head(5)"
   ]
  },
  {
   "cell_type": "code",
   "execution_count": 41,
   "metadata": {},
   "outputs": [],
   "source": [
    "groupby_heigh = groupby_heigh.merge(country_avg, on='country', how='left')"
   ]
  },
  {
   "cell_type": "code",
   "execution_count": 42,
   "metadata": {},
   "outputs": [],
   "source": [
    "groupby_heigh['group_avg_height'] = groupby_heigh['group_avg_height'].fillna(groupby_heigh['country_avg_height'])"
   ]
  },
  {
   "cell_type": "code",
   "execution_count": 43,
   "metadata": {},
   "outputs": [],
   "source": [
    "height_concat = height_concat.merge(groupby_heigh, on = ['country', 'gender'], how = 'left')"
   ]
  },
  {
   "cell_type": "code",
   "execution_count": 44,
   "metadata": {},
   "outputs": [],
   "source": [
    "#1. Fill missing heights using average height of country and gender\n",
    "height_concat.loc[height_concat['height'].isna(), 'height'] = height_concat.loc[height_concat['height'].isna(), 'group_avg_height']"
   ]
  },
  {
   "cell_type": "code",
   "execution_count": 45,
   "metadata": {},
   "outputs": [],
   "source": [
    "#2. Fill missing heights using overall country average height when gender-specific data was unavailable\n",
    "height_concat.loc[height_concat['height'].isna(), 'height'] = height_concat.loc[height_concat['height'].isna(), 'country_avg_height']"
   ]
  },
  {
   "cell_type": "code",
   "execution_count": 46,
   "metadata": {},
   "outputs": [],
   "source": [
    "#3. Fill remaining missing heights using global mean height\n",
    "height_concat.loc[height_concat['height'].isna(), 'height'] = height_concat['height'].fillna(height_concat['height'].mean())"
   ]
  },
  {
   "cell_type": "code",
   "execution_count": 47,
   "metadata": {},
   "outputs": [
    {
     "data": {
      "text/html": [
       "<div>\n",
       "<style scoped>\n",
       "    .dataframe tbody tr th:only-of-type {\n",
       "        vertical-align: middle;\n",
       "    }\n",
       "\n",
       "    .dataframe tbody tr th {\n",
       "        vertical-align: top;\n",
       "    }\n",
       "\n",
       "    .dataframe thead th {\n",
       "        text-align: right;\n",
       "    }\n",
       "</style>\n",
       "<table border=\"1\" class=\"dataframe\">\n",
       "  <thead>\n",
       "    <tr style=\"text-align: right;\">\n",
       "      <th></th>\n",
       "      <th>match_id</th>\n",
       "      <th>gender</th>\n",
       "      <th>height</th>\n",
       "      <th>country</th>\n",
       "      <th>fix_full_name</th>\n",
       "      <th>player_type</th>\n",
       "      <th>group_avg_height</th>\n",
       "      <th>country_avg_height</th>\n",
       "    </tr>\n",
       "  </thead>\n",
       "  <tbody>\n",
       "  </tbody>\n",
       "</table>\n",
       "</div>"
      ],
      "text/plain": [
       "Empty DataFrame\n",
       "Columns: [match_id, gender, height, country, fix_full_name, player_type, group_avg_height, country_avg_height]\n",
       "Index: []"
      ]
     },
     "execution_count": 47,
     "metadata": {},
     "output_type": "execute_result"
    }
   ],
   "source": [
    "height_concat[height_concat['height'].isnull()]  #All null heights are fill now"
   ]
  },
  {
   "cell_type": "code",
   "execution_count": 48,
   "metadata": {},
   "outputs": [],
   "source": [
    "#Drop extra columns and duplicate rows\n",
    "height_concat = height_concat.drop(columns= ['group_avg_height', 'country_avg_height'])\n",
    "height_concat = height_concat.drop_duplicates(keep= 'last')"
   ]
  },
  {
   "cell_type": "markdown",
   "metadata": {},
   "source": [
    "#### Average Height of Players Calculation"
   ]
  },
  {
   "cell_type": "code",
   "execution_count": 49,
   "metadata": {},
   "outputs": [
    {
     "data": {
      "text/plain": [
       "np.float64(1.8)"
      ]
     },
     "execution_count": 49,
     "metadata": {},
     "output_type": "execute_result"
    }
   ],
   "source": [
    "#Total average of height\n",
    "avg_height_players = height_concat['height'].mean().round(2)\n",
    "avg_height_players"
   ]
  },
  {
   "cell_type": "code",
   "execution_count": 50,
   "metadata": {},
   "outputs": [
    {
     "data": {
      "text/html": [
       "<div>\n",
       "<style scoped>\n",
       "    .dataframe tbody tr th:only-of-type {\n",
       "        vertical-align: middle;\n",
       "    }\n",
       "\n",
       "    .dataframe tbody tr th {\n",
       "        vertical-align: top;\n",
       "    }\n",
       "\n",
       "    .dataframe thead th {\n",
       "        text-align: right;\n",
       "    }\n",
       "</style>\n",
       "<table border=\"1\" class=\"dataframe\">\n",
       "  <thead>\n",
       "    <tr style=\"text-align: right;\">\n",
       "      <th></th>\n",
       "      <th>gender</th>\n",
       "      <th>avg_height</th>\n",
       "    </tr>\n",
       "  </thead>\n",
       "  <tbody>\n",
       "    <tr>\n",
       "      <th>0</th>\n",
       "      <td>F</td>\n",
       "      <td>1.74</td>\n",
       "    </tr>\n",
       "    <tr>\n",
       "      <th>1</th>\n",
       "      <td>M</td>\n",
       "      <td>1.84</td>\n",
       "    </tr>\n",
       "    <tr>\n",
       "      <th>2</th>\n",
       "      <td>Total players</td>\n",
       "      <td>1.80</td>\n",
       "    </tr>\n",
       "  </tbody>\n",
       "</table>\n",
       "</div>"
      ],
      "text/plain": [
       "          gender  avg_height\n",
       "0              F        1.74\n",
       "1              M        1.84\n",
       "2  Total players        1.80"
      ]
     },
     "execution_count": 50,
     "metadata": {},
     "output_type": "execute_result"
    }
   ],
   "source": [
    "#Average height base on gender\n",
    "groupby_gender_avg_height = height_concat.groupby('gender', as_index= False).agg(avg_height = ('height', 'mean')).round(2)\n",
    "overall_rows = pd.DataFrame({'gender': ['Total players'], 'avg_height': [avg_height_players]})\n",
    "total_avg_height = pd.concat([groupby_gender_avg_height, overall_rows], ignore_index= True)\n",
    "total_avg_height"
   ]
  },
  {
   "cell_type": "code",
   "execution_count": 51,
   "metadata": {},
   "outputs": [
    {
     "data": {
      "text/html": [
       "<div>\n",
       "<style scoped>\n",
       "    .dataframe tbody tr th:only-of-type {\n",
       "        vertical-align: middle;\n",
       "    }\n",
       "\n",
       "    .dataframe tbody tr th {\n",
       "        vertical-align: top;\n",
       "    }\n",
       "\n",
       "    .dataframe thead th {\n",
       "        text-align: right;\n",
       "    }\n",
       "</style>\n",
       "<table border=\"1\" class=\"dataframe\">\n",
       "  <thead>\n",
       "    <tr style=\"text-align: right;\">\n",
       "      <th></th>\n",
       "      <th>fix_full_name</th>\n",
       "      <th>country</th>\n",
       "      <th>gender</th>\n",
       "      <th>height</th>\n",
       "    </tr>\n",
       "  </thead>\n",
       "  <tbody>\n",
       "    <tr>\n",
       "      <th>512</th>\n",
       "      <td>Damas, Miguel</td>\n",
       "      <td>Spain</td>\n",
       "      <td>M</td>\n",
       "      <td>2.08</td>\n",
       "    </tr>\n",
       "    <tr>\n",
       "      <th>2501</th>\n",
       "      <td>Watt, James</td>\n",
       "      <td>New Zealand</td>\n",
       "      <td>M</td>\n",
       "      <td>2.06</td>\n",
       "    </tr>\n",
       "    <tr>\n",
       "      <th>69</th>\n",
       "      <td>Angele, Jaimee Floyd</td>\n",
       "      <td>France</td>\n",
       "      <td>M</td>\n",
       "      <td>2.06</td>\n",
       "    </tr>\n",
       "    <tr>\n",
       "      <th>2289</th>\n",
       "      <td>Tabacco, Giorgio</td>\n",
       "      <td>Italy</td>\n",
       "      <td>M</td>\n",
       "      <td>2.03</td>\n",
       "    </tr>\n",
       "    <tr>\n",
       "      <th>513</th>\n",
       "      <td>Damm Jr, Martin</td>\n",
       "      <td>USA</td>\n",
       "      <td>M</td>\n",
       "      <td>2.03</td>\n",
       "    </tr>\n",
       "    <tr>\n",
       "      <th>600</th>\n",
       "      <td>Dominko, Sebastian</td>\n",
       "      <td>Slovenia</td>\n",
       "      <td>M</td>\n",
       "      <td>2.03</td>\n",
       "    </tr>\n",
       "    <tr>\n",
       "      <th>541</th>\n",
       "      <td>De Schepper, Kenny</td>\n",
       "      <td>France</td>\n",
       "      <td>M</td>\n",
       "      <td>2.03</td>\n",
       "    </tr>\n",
       "    <tr>\n",
       "      <th>1695</th>\n",
       "      <td>Olivetti, Albano</td>\n",
       "      <td>France</td>\n",
       "      <td>M</td>\n",
       "      <td>2.03</td>\n",
       "    </tr>\n",
       "    <tr>\n",
       "      <th>1593</th>\n",
       "      <td>Mpetshi Perricard, Giovanni</td>\n",
       "      <td>France</td>\n",
       "      <td>M</td>\n",
       "      <td>2.03</td>\n",
       "    </tr>\n",
       "    <tr>\n",
       "      <th>580</th>\n",
       "      <td>Diallo, Gabriel</td>\n",
       "      <td>Canada</td>\n",
       "      <td>M</td>\n",
       "      <td>2.03</td>\n",
       "    </tr>\n",
       "  </tbody>\n",
       "</table>\n",
       "</div>"
      ],
      "text/plain": [
       "                    fix_full_name      country gender  height\n",
       "512                 Damas, Miguel        Spain      M    2.08\n",
       "2501                  Watt, James  New Zealand      M    2.06\n",
       "69           Angele, Jaimee Floyd       France      M    2.06\n",
       "2289             Tabacco, Giorgio        Italy      M    2.03\n",
       "513               Damm Jr, Martin          USA      M    2.03\n",
       "600            Dominko, Sebastian     Slovenia      M    2.03\n",
       "541            De Schepper, Kenny       France      M    2.03\n",
       "1695             Olivetti, Albano       France      M    2.03\n",
       "1593  Mpetshi Perricard, Giovanni       France      M    2.03\n",
       "580               Diallo, Gabriel       Canada      M    2.03"
      ]
     },
     "execution_count": 51,
     "metadata": {},
     "output_type": "execute_result"
    }
   ],
   "source": [
    "#Identification of 10 tallest players\n",
    "tallest_players = (height_concat.groupby(['fix_full_name', 'country', 'gender'], as_index= False)\n",
    "                                    .agg(height = ('height', 'max'))\n",
    "                                    .sort_values('height', ascending= False)).head(10)\n",
    "tallest_players"
   ]
  },
  {
   "cell_type": "code",
   "execution_count": 52,
   "metadata": {},
   "outputs": [],
   "source": [
    "# height_concat.to_csv('D:/Trains/tennis_project/data/output/height_info.csv', index= False)"
   ]
  },
  {
   "cell_type": "code",
   "execution_count": 53,
   "metadata": {},
   "outputs": [
    {
     "name": "stderr",
     "output_type": "stream",
     "text": [
      "C:\\Users\\ASUS\\AppData\\Local\\Temp\\ipykernel_329100\\1051750912.py:7: UserWarning: set_ticklabels() should only be used with a fixed number of ticks, i.e. after set_ticks() or using a FixedLocator.\n",
      "  ax.set_xticklabels(['Female', 'Male', 'Total Players'])\n"
     ]
    },
    {
     "data": {
      "image/png": "[encoded data removed]",
      "text/plain": [
       "<Figure size 800x500 with 1 Axes>"
      ]
     },
     "metadata": {},
     "output_type": "display_data"
    }
   ],
   "source": [
    "fig, ax = plt.subplots(figsize= (8, 5))\n",
    "sns.barplot(data = total_avg_height, x = 'gender', y = 'avg_height', palette= {'Total players': '#3B9C3F', 'M':'#0077B6', 'F':'#D63384'}, width= 0.5, hue ='gender')\n",
    "ax.set_title('Average Height of Players (cm)', loc = 'left', color = 'gray', weight = 'bold', fontsize = 14)\n",
    "ax.set_xlabel('Players', loc='left', color='#6C757D', weight = 'bold', fontsize = 12)\n",
    "ax.set_ylabel('Average Height (cm)', loc='bottom', color='#6C757D', weight = 'bold', fontsize = 12)\n",
    "ax.tick_params(axis = 'both', color = '#6C757D')\n",
    "ax.set_xticklabels(['Female', 'Male', 'Total Players'])\n",
    "ax.spines[['bottom', 'left']].set_visible(True)\n",
    "ax.spines[['top', 'right']].set_visible(False)\n",
    "ax.spines[['bottom', 'left']].set_color('#6C757D')\n",
    "ax.grid(axis= 'y', linestyle = '--', color = '#6C757D', alpha = 0.6)\n",
    "ax.set_ylim(0, 2.0)\n",
    "ax.set_ybound(1);\n"
   ]
  },
  {
   "cell_type": "code",
   "execution_count": 54,
   "metadata": {},
   "outputs": [],
   "source": [
    "unique_players = height_concat.drop_duplicates(subset=['fix_full_name'], keep = 'last')\n",
    "data_for_histogram = unique_players.groupby('height', as_index= False).agg(count = ('height', 'count')) "
   ]
  },
  {
   "cell_type": "code",
   "execution_count": 55,
   "metadata": {},
   "outputs": [
    {
     "data": {
      "image/png": "[encoded data removed]",
      "text/plain": [
       "<Figure size 800x600 with 1 Axes>"
      ]
     },
     "metadata": {},
     "output_type": "display_data"
    }
   ],
   "source": [
    "bins = np.histogram_bin_edges(data_for_histogram['height'], bins=6).round(2)    #Bins with intervals of about 10\n",
    "\n",
    "fig, ax = plt.subplots(figsize= (8, 6))\n",
    "sns.histplot(data = data_for_histogram, x = 'height',bins = bins, color= '#3B9C3F', alpha = 0.78, kde= True)\n",
    "\n",
    "ax.set_title('Height Distribution of Participants Player', color = '#6C757D', weight = 'bold', loc = 'left', fontsize = 14)\n",
    "ax.set_xlabel('Height (cm)', color = '#6C757D', weight = 'bold', loc = 'left', fontsize = 12)\n",
    "ax.set_ylabel('Count', color = '#6C757D', weight = 'bold', loc = 'bottom', fontsize = 12)\n",
    "ax.set_xticks((bins))\n",
    "ax.grid(axis= 'x',visible= False)\n",
    "ax.spines[['bottom', 'left']].set_visible(True)\n",
    "ax.spines[['bottom', 'left']].set_color('#6C757D')\n",
    "# plt.savefig('D:/Trains/tennis_project/chart/height_hist.jpeg', dpi = 300);\n"
   ]
  },
  {
   "cell_type": "markdown",
   "metadata": {},
   "source": [
    "average height of total players beside gender, is equal to **1.80**. This players female average height is about 1.74 and male are 1.84 (cm) so men are taller than women.\n",
    "Also there are players **above 2.00** and most of them are from France. \n",
    "Base on player's nationality, **Zimbabwe** with just 2 players, **Luxembourg** with players\t4 and **Antigua and Barbuda** with 1 players have top average heights (above 1.93 cm) in this tennis tournaments. As the number of players from a country increase, a decline in their average height is to be expected. \n",
    " **East asian Countries** height are the lowest and their average height is about **1.75 cm**."
   ]
  },
  {
   "cell_type": "markdown",
   "metadata": {},
   "source": [
    "________________________"
   ]
  },
  {
   "cell_type": "markdown",
   "metadata": {},
   "source": [
    "# **3. Highest Number of Wins**"
   ]
  },
  {
   "cell_type": "markdown",
   "metadata": {},
   "source": [
    "#### Load Data"
   ]
  },
  {
   "cell_type": "code",
   "execution_count": 56,
   "metadata": {},
   "outputs": [],
   "source": [
    "event_df = pd.read_csv('D:/Trains/tennis_project/data/input/match_event_info.csv')"
   ]
  },
  {
   "cell_type": "markdown",
   "metadata": {},
   "source": [
    "#### Drop Duplicated Rows"
   ]
  },
  {
   "cell_type": "code",
   "execution_count": 57,
   "metadata": {},
   "outputs": [],
   "source": [
    "cols = [col for col in event_df.columns if col != 'date']\n",
    "event_df = event_df[event_df.duplicated(subset= cols, keep= 'last')]"
   ]
  },
  {
   "cell_type": "markdown",
   "metadata": {},
   "source": [
    "#### Merge Winner Data and Team Datasets to Find Player Name"
   ]
  },
  {
   "cell_type": "code",
   "execution_count": 58,
   "metadata": {},
   "outputs": [],
   "source": [
    "home_away_team = pd.concat([home_team, away_team], ignore_index= True, axis = 0)"
   ]
  },
  {
   "cell_type": "code",
   "execution_count": 59,
   "metadata": {},
   "outputs": [],
   "source": [
    "event_df = event_df.merge(home_away_team, on = 'match_id', how = 'outer')"
   ]
  },
  {
   "cell_type": "markdown",
   "metadata": {},
   "source": [
    "#### Calculate Number of wins per Players"
   ]
  },
  {
   "cell_type": "code",
   "execution_count": 60,
   "metadata": {},
   "outputs": [],
   "source": [
    "event_df['is_winner'] = np.where(((event_df['player_type'] == 'home') & (event_df['winner_code'] == 1)) |\n",
    "                                ((event_df['player_type'] == 'away') & (event_df['winner_code'] == 2)),\n",
    "                                    1,\n",
    "                                    0)"
   ]
  },
  {
   "cell_type": "code",
   "execution_count": 61,
   "metadata": {},
   "outputs": [],
   "source": [
    "event_df = event_df[['match_id', 'fix_full_name', 'winner_code', 'is_winner', 'player_type']]\n",
    "event_df = event_df.drop_duplicates(keep= 'first')"
   ]
  },
  {
   "cell_type": "code",
   "execution_count": 62,
   "metadata": {},
   "outputs": [
    {
     "data": {
      "text/html": [
       "<div>\n",
       "<style scoped>\n",
       "    .dataframe tbody tr th:only-of-type {\n",
       "        vertical-align: middle;\n",
       "    }\n",
       "\n",
       "    .dataframe tbody tr th {\n",
       "        vertical-align: top;\n",
       "    }\n",
       "\n",
       "    .dataframe thead th {\n",
       "        text-align: right;\n",
       "    }\n",
       "</style>\n",
       "<table border=\"1\" class=\"dataframe\">\n",
       "  <thead>\n",
       "    <tr style=\"text-align: right;\">\n",
       "      <th></th>\n",
       "      <th>fix_full_name</th>\n",
       "      <th>number_of_wins</th>\n",
       "    </tr>\n",
       "  </thead>\n",
       "  <tbody>\n",
       "    <tr>\n",
       "      <th>1851</th>\n",
       "      <td>Popko, Dmitry</td>\n",
       "      <td>26</td>\n",
       "    </tr>\n",
       "    <tr>\n",
       "      <th>784</th>\n",
       "      <td>Gengel, Marek</td>\n",
       "      <td>20</td>\n",
       "    </tr>\n",
       "    <tr>\n",
       "      <th>417</th>\n",
       "      <td>Chidekh, Clement</td>\n",
       "      <td>19</td>\n",
       "    </tr>\n",
       "    <tr>\n",
       "      <th>1249</th>\n",
       "      <td>Kužmová, Katarína</td>\n",
       "      <td>19</td>\n",
       "    </tr>\n",
       "  </tbody>\n",
       "</table>\n",
       "</div>"
      ],
      "text/plain": [
       "          fix_full_name  number_of_wins\n",
       "1851      Popko, Dmitry              26\n",
       "784       Gengel, Marek              20\n",
       "417    Chidekh, Clement              19\n",
       "1249  Kužmová, Katarína              19"
      ]
     },
     "execution_count": 62,
     "metadata": {},
     "output_type": "execute_result"
    }
   ],
   "source": [
    "winning_count = (event_df.groupby('fix_full_name', as_index= False)\n",
    "                 .agg(number_of_wins = ('is_winner', 'sum'))\n",
    "                 .sort_values('number_of_wins', ascending = False))\n",
    "most_winners = winning_count.head(4)\n",
    "most_winners"
   ]
  },
  {
   "cell_type": "code",
   "execution_count": 63,
   "metadata": {},
   "outputs": [],
   "source": [
    "players_total_data = (winning_count.merge(home_away_team[['fix_full_name', 'gender', 'country', 'current_rank']], on = 'fix_full_name', how = 'left')\n",
    "                      .sort_values(['number_of_wins', 'current_rank'], ascending = False))"
   ]
  },
  {
   "cell_type": "code",
   "execution_count": 64,
   "metadata": {},
   "outputs": [
    {
     "data": {
      "text/html": [
       "<div>\n",
       "<style scoped>\n",
       "    .dataframe tbody tr th:only-of-type {\n",
       "        vertical-align: middle;\n",
       "    }\n",
       "\n",
       "    .dataframe tbody tr th {\n",
       "        vertical-align: top;\n",
       "    }\n",
       "\n",
       "    .dataframe thead th {\n",
       "        text-align: right;\n",
       "    }\n",
       "</style>\n",
       "<table border=\"1\" class=\"dataframe\">\n",
       "  <thead>\n",
       "    <tr style=\"text-align: right;\">\n",
       "      <th></th>\n",
       "      <th>fix_full_name</th>\n",
       "      <th>number_of_wins</th>\n",
       "      <th>gender</th>\n",
       "      <th>country</th>\n",
       "      <th>current_rank</th>\n",
       "    </tr>\n",
       "  </thead>\n",
       "  <tbody>\n",
       "    <tr>\n",
       "      <th>35</th>\n",
       "      <td>Popko, Dmitry</td>\n",
       "      <td>26</td>\n",
       "      <td>M</td>\n",
       "      <td>Kazakhstan</td>\n",
       "      <td>223.0</td>\n",
       "    </tr>\n",
       "    <tr>\n",
       "      <th>72</th>\n",
       "      <td>Gengel, Marek</td>\n",
       "      <td>20</td>\n",
       "      <td>M</td>\n",
       "      <td>Czech Republic</td>\n",
       "      <td>556.0</td>\n",
       "    </tr>\n",
       "    <tr>\n",
       "      <th>156</th>\n",
       "      <td>Kužmová, Katarína</td>\n",
       "      <td>19</td>\n",
       "      <td>F</td>\n",
       "      <td>Slovakia</td>\n",
       "      <td>429.0</td>\n",
       "    </tr>\n",
       "    <tr>\n",
       "      <th>104</th>\n",
       "      <td>Chidekh, Clement</td>\n",
       "      <td>19</td>\n",
       "      <td>M</td>\n",
       "      <td>France</td>\n",
       "      <td>280.0</td>\n",
       "    </tr>\n",
       "    <tr>\n",
       "      <th>260</th>\n",
       "      <td>Clarke, Jay</td>\n",
       "      <td>18</td>\n",
       "      <td>M</td>\n",
       "      <td>United Kingdom</td>\n",
       "      <td>317.0</td>\n",
       "    </tr>\n",
       "  </tbody>\n",
       "</table>\n",
       "</div>"
      ],
      "text/plain": [
       "         fix_full_name  number_of_wins gender         country  current_rank\n",
       "35       Popko, Dmitry              26      M      Kazakhstan         223.0\n",
       "72       Gengel, Marek              20      M  Czech Republic         556.0\n",
       "156  Kužmová, Katarína              19      F        Slovakia         429.0\n",
       "104   Chidekh, Clement              19      M          France         280.0\n",
       "260        Clarke, Jay              18      M  United Kingdom         317.0"
      ]
     },
     "execution_count": 64,
     "metadata": {},
     "output_type": "execute_result"
    }
   ],
   "source": [
    "cols = [col for col in players_total_data.columns if col != 'current_rank']\n",
    "players_total_data = players_total_data.sort_values('current_rank')\n",
    "players_total_data = players_total_data.drop_duplicates(subset= cols, keep= 'first')\n",
    "players_total_data.sort_values('number_of_wins', ascending= False).head(5)"
   ]
  },
  {
   "cell_type": "code",
   "execution_count": 65,
   "metadata": {},
   "outputs": [],
   "source": [
    "# players_total_data.to_csv('D:/Trains/tennis_project/data/output/winner_info.csv', index= False)"
   ]
  },
  {
   "cell_type": "code",
   "execution_count": 66,
   "metadata": {},
   "outputs": [
    {
     "data": {
      "image/png": "[encoded data removed]",
      "text/plain": [
       "<Figure size 800x600 with 1 Axes>"
      ]
     },
     "metadata": {},
     "output_type": "display_data"
    }
   ],
   "source": [
    "fig, ax = plt.subplots(figsize = (8, 6))\n",
    "sns.barplot(data = most_winners,\n",
    "            y = 'fix_full_name',\n",
    "            x = 'number_of_wins',\n",
    "            width = 0.5,\n",
    "            hue = 'fix_full_name',\n",
    "            palette = ['#3B9C3F','lightgray', 'lightgray', 'lightgray'])\n",
    "\n",
    "ax.set_title('Players with the Most Number of Wins', loc = 'left', color = '#6C757D', weight = 'bold', fontsize = 14)\n",
    "ax.set_xlabel('Win Counts', loc='left', color='#6C757D', weight = 'bold', fontsize = 12)\n",
    "ax.set_ylabel('Player Name', loc='bottom', color='#6C757D', weight = 'bold', fontsize = 12)\n",
    "ax.tick_params(axis='y', which='both', length=0)\n",
    "ax.spines[['bottom', 'left']].set_visible(True)\n",
    "ax.spines[['bottom', 'left']].set_color('gray')\n",
    "# plt.savefig('D:/Trains/tennis_project/chart/most_wins.jpeg', dpi = 300);"
   ]
  },
  {
   "cell_type": "markdown",
   "metadata": {},
   "source": [
    "**Dmitry Popko** from Kazakhstan has participated in 36 matches across the tournaments under review, **winning 26** of them — a win rate of 72%.\n",
    "His most recent ranking was 223.\n",
    "Marek Gengel, Clement Chidekh and Kužmová, Katarína follow him in the subsequent ranking positions."
   ]
  },
  {
   "cell_type": "markdown",
   "metadata": {},
   "source": [
    "___________________________"
   ]
  },
  {
   "cell_type": "markdown",
   "metadata": {},
   "source": [
    "# **4. Longest Match**"
   ]
  },
  {
   "cell_type": "markdown",
   "metadata": {},
   "source": [
    "#### Load Data"
   ]
  },
  {
   "cell_type": "code",
   "execution_count": 67,
   "metadata": {},
   "outputs": [],
   "source": [
    "match_time_df = pd.read_csv('D:/Trains/tennis_project/data/input/match_time_info.csv')\n",
    "game_info_df = pd.read_csv('D:/Trains/tennis_project/data/input/game_info.csv')"
   ]
  },
  {
   "cell_type": "code",
   "execution_count": 68,
   "metadata": {},
   "outputs": [],
   "source": [
    "away_score_df = pd.read_csv('D:/Trains/tennis_project/data/input/match_away_score_info.csv')\n",
    "home_score_df = pd.read_csv('D:/Trains/tennis_project/data/input/match_home_score_info.csv')"
   ]
  },
  {
   "cell_type": "code",
   "execution_count": 69,
   "metadata": {},
   "outputs": [],
   "source": [
    "away_score_df.insert(loc = 9, column= 'player_type', value = 'away')\n",
    "home_score_df.insert(loc = 9, column= 'player_type', value = 'home')"
   ]
  },
  {
   "cell_type": "code",
   "execution_count": 70,
   "metadata": {},
   "outputs": [
    {
     "data": {
      "text/plain": [
       "(23126, 6)"
      ]
     },
     "execution_count": 70,
     "metadata": {},
     "output_type": "execute_result"
    }
   ],
   "source": [
    "match_time_df.shape"
   ]
  },
  {
   "cell_type": "code",
   "execution_count": 71,
   "metadata": {},
   "outputs": [
    {
     "name": "stdout",
     "output_type": "stream",
     "text": [
      "<class 'pandas.core.frame.DataFrame'>\n",
      "RangeIndex: 23126 entries, 0 to 23125\n",
      "Data columns (total 6 columns):\n",
      " #   Column                          Non-Null Count  Dtype  \n",
      "---  ------                          --------------  -----  \n",
      " 0   match_id                        23126 non-null  int64  \n",
      " 1   period_1                        22576 non-null  float64\n",
      " 2   period_2                        22471 non-null  float64\n",
      " 3   period_3                        6886 non-null   float64\n",
      " 4   current_period_start_timestamp  23126 non-null  object \n",
      " 5   date                            23126 non-null  object \n",
      "dtypes: float64(3), int64(1), object(2)\n",
      "memory usage: 1.1+ MB\n"
     ]
    }
   ],
   "source": [
    "match_time_df.info()"
   ]
  },
  {
   "cell_type": "markdown",
   "metadata": {},
   "source": [
    "#### Find and Drop Fully Duplicated Rows"
   ]
  },
  {
   "cell_type": "code",
   "execution_count": 72,
   "metadata": {},
   "outputs": [],
   "source": [
    "match_time_df = match_time_df.drop(columns= 'date')\n",
    "duplicated_rows = match_time_df.duplicated(keep = False)\n",
    "match_time_df = match_time_df.drop_duplicates(keep = 'last')"
   ]
  },
  {
   "cell_type": "markdown",
   "metadata": {},
   "source": [
    "#### Find Fully Null Rows and Columns"
   ]
  },
  {
   "cell_type": "code",
   "execution_count": 73,
   "metadata": {},
   "outputs": [
    {
     "data": {
      "text/plain": [
       "match_id                          False\n",
       "period_1                          False\n",
       "period_2                          False\n",
       "period_3                          False\n",
       "current_period_start_timestamp    False\n",
       "dtype: bool"
      ]
     },
     "execution_count": 73,
     "metadata": {},
     "output_type": "execute_result"
    }
   ],
   "source": [
    "#Fully null columns\n",
    "match_time_df.isnull().all(axis = 0)"
   ]
  },
  {
   "cell_type": "code",
   "execution_count": 74,
   "metadata": {},
   "outputs": [
    {
     "data": {
      "text/html": [
       "<div>\n",
       "<style scoped>\n",
       "    .dataframe tbody tr th:only-of-type {\n",
       "        vertical-align: middle;\n",
       "    }\n",
       "\n",
       "    .dataframe tbody tr th {\n",
       "        vertical-align: top;\n",
       "    }\n",
       "\n",
       "    .dataframe thead th {\n",
       "        text-align: right;\n",
       "    }\n",
       "</style>\n",
       "<table border=\"1\" class=\"dataframe\">\n",
       "  <thead>\n",
       "    <tr style=\"text-align: right;\">\n",
       "      <th></th>\n",
       "      <th>match_id</th>\n",
       "      <th>period_1</th>\n",
       "      <th>period_2</th>\n",
       "      <th>period_3</th>\n",
       "      <th>current_period_start_timestamp</th>\n",
       "    </tr>\n",
       "  </thead>\n",
       "  <tbody>\n",
       "  </tbody>\n",
       "</table>\n",
       "</div>"
      ],
      "text/plain": [
       "Empty DataFrame\n",
       "Columns: [match_id, period_1, period_2, period_3, current_period_start_timestamp]\n",
       "Index: []"
      ]
     },
     "execution_count": 74,
     "metadata": {},
     "output_type": "execute_result"
    }
   ],
   "source": [
    "#Fully null rows\n",
    "match_time_df[match_time_df.isnull().all(axis = 1)]"
   ]
  },
  {
   "cell_type": "markdown",
   "metadata": {},
   "source": [
    "#### Find Outliers"
   ]
  },
  {
   "cell_type": "code",
   "execution_count": 75,
   "metadata": {},
   "outputs": [],
   "source": [
    "max_point_per_set = (game_info_df.groupby(['match_id', 'set_id'], as_index= False)\n",
    "                     .agg(count_point = ('point_id', 'count')))\n",
    "\n",
    "max_point_wide = (\n",
    "    max_point_per_set\n",
    "    .pivot(index='match_id', columns='set_id', values='count_point')\n",
    "    .rename(columns={\n",
    "        1: 'estimated_time_set1',\n",
    "        2: 'estimated_time_set2',\n",
    "        3: 'estimated_time_set3'\n",
    "    })\n",
    "    .reset_index())"
   ]
  },
  {
   "cell_type": "code",
   "execution_count": 76,
   "metadata": {},
   "outputs": [],
   "source": [
    "match_time_df = match_time_df.merge(max_point_wide, on= 'match_id', how = 'left')"
   ]
  },
  {
   "cell_type": "markdown",
   "metadata": {},
   "source": [
    "In game info there is point id column, with this column we can estimate duration of sets (Assuming that each point takes 30 seconds to complete)"
   ]
  },
  {
   "cell_type": "code",
   "execution_count": 77,
   "metadata": {},
   "outputs": [],
   "source": [
    "#Estimate duration of every set by number of point id\n",
    "match_time_df['estimated_time_set1'] = match_time_df['estimated_time_set1'] * 30\n",
    "match_time_df['estimated_time_set2'] = match_time_df['estimated_time_set2'] * 30\n",
    "match_time_df['estimated_time_set3'] = match_time_df['estimated_time_set3'] * 30"
   ]
  },
  {
   "cell_type": "code",
   "execution_count": 78,
   "metadata": {},
   "outputs": [],
   "source": [
    "#Find outliers for period 1\n",
    "q1 = match_time_df['period_1'].quantile(0.25)\n",
    "q3 = match_time_df['period_1'].quantile(0.75)\n",
    "iqr = q3 - q1\n",
    "\n",
    "period1_outliers = (match_time_df['period_1'] < q1 - 1.5 * iqr) | (match_time_df['period_1'] > q3 + 1.5 * iqr)\n",
    "match_time_df = match_time_df[~(period1_outliers)]"
   ]
  },
  {
   "cell_type": "code",
   "execution_count": 79,
   "metadata": {},
   "outputs": [],
   "source": [
    "#Find outliers for period 2\n",
    "q1 = match_time_df['period_2'].quantile(0.25)\n",
    "q3 = match_time_df['period_2'].quantile(0.75)\n",
    "iqr = q3 - q1\n",
    "\n",
    "period2_outliers = (match_time_df['period_2'] < q1 - 1.5 * iqr) | (match_time_df['period_2'] > q3 + 1.5 * iqr)\n",
    "match_time_df = match_time_df[~(period2_outliers)]"
   ]
  },
  {
   "cell_type": "code",
   "execution_count": 80,
   "metadata": {},
   "outputs": [],
   "source": [
    "#For period 3\n",
    "q1 = match_time_df['period_3'].quantile(0.25)\n",
    "q3 = match_time_df['period_3'].quantile(0.75)\n",
    "iqr = q3 - q1\n",
    "\n",
    "period3_outliers = (match_time_df['period_3'] < q1 - 1.5 * iqr) | (match_time_df['period_3'] > q3 + 1.5 * iqr)\n",
    "match_time_df = match_time_df[~(period3_outliers)]"
   ]
  },
  {
   "cell_type": "markdown",
   "metadata": {},
   "source": [
    "#### Find Incomplete Match, Game and Super Tiebreaks"
   ]
  },
  {
   "cell_type": "code",
   "execution_count": 81,
   "metadata": {},
   "outputs": [],
   "source": [
    "compare_col = [col for col in game_info_df.columns if col != 'date']\n",
    "game_info_df = game_info_df.sort_values('date')\n",
    "game_info_df = game_info_df.drop_duplicates(subset= compare_col, keep = 'last').reset_index(drop=True)"
   ]
  },
  {
   "cell_type": "code",
   "execution_count": 82,
   "metadata": {},
   "outputs": [],
   "source": [
    "#Find match tiebreaks\n",
    "points = ['A','40', '30']\n",
    "one_game_set3 =game_info_df.groupby(['match_id', 'set_id'], as_index= False)[['game_id', 'home_point', 'away_point']].max()\n",
    "\n",
    "#Sets which are non-classic and called match tiebreak\n",
    "match_tiebreak_ids = one_game_set3[(one_game_set3['set_id'] >= 3) &\n",
    "                                (one_game_set3['game_id'] <= 1) &\n",
    "                                (~one_game_set3['home_point'].isin(points)) &\n",
    "                                (~one_game_set3['away_point'].isin(points))]['match_id'].unique().tolist()"
   ]
  },
  {
   "cell_type": "code",
   "execution_count": 83,
   "metadata": {},
   "outputs": [],
   "source": [
    "#Find incomplete matches\n",
    "set_counts = game_info_df.groupby('match_id').agg(set_id =('set_id',  'max')).reset_index()\n",
    "incomplete_matches = set_counts[set_counts['set_id'] < 2]\n",
    "incomplete_matches_list = incomplete_matches['match_id'].to_list()"
   ]
  },
  {
   "cell_type": "code",
   "execution_count": 84,
   "metadata": {},
   "outputs": [],
   "source": [
    "#Find incomplete games\n",
    "max_game_per_set = (game_info_df.groupby(['match_id', 'set_id'], as_index= False)\n",
    "                       .agg(max_game = ('game_id', 'max'))\n",
    "                       .sort_values(['max_game'], ascending=False))\n",
    "\n",
    "incomplete_games = max_game_per_set[(max_game_per_set['max_game'] < 6)]   #All this input games are not incomplete and some are match tiebreaks\n",
    "\n",
    "incomplete_games_list = incomplete_games[~(incomplete_games['match_id'].isin(match_tiebreak_ids))]['match_id'].unique().tolist()  "
   ]
  },
  {
   "cell_type": "code",
   "execution_count": 85,
   "metadata": {},
   "outputs": [],
   "source": [
    "#Find incomplete matches (set number is less than 2) which time durations are null\n",
    "match_time_df = match_time_df[\n",
    "    ~(\n",
    "        (match_time_df['match_id'].isin(incomplete_matches_list)) &\n",
    "        (match_time_df['period_1'].isnull()) &\n",
    "        (match_time_df['period_2'].isnull()) &\n",
    "        (match_time_df['period_3'].isnull())\n",
    "    )]                                                             #Null periods are related to incomplete matches"
   ]
  },
  {
   "cell_type": "code",
   "execution_count": 86,
   "metadata": {},
   "outputs": [],
   "source": [
    "#Find and drop incomplete games (game number is less than 6) which time durations are null\n",
    "match_time_df = match_time_df[\n",
    "    ~(\n",
    "        (match_time_df['match_id'].isin(incomplete_games_list)) &\n",
    "        (match_time_df['period_1'].isnull()) &\n",
    "        (match_time_df['period_2'].isnull()) &\n",
    "        (match_time_df['period_3'].isnull())\n",
    "    )]       "
   ]
  },
  {
   "cell_type": "code",
   "execution_count": 87,
   "metadata": {},
   "outputs": [
    {
     "data": {
      "text/html": [
       "<div>\n",
       "<style scoped>\n",
       "    .dataframe tbody tr th:only-of-type {\n",
       "        vertical-align: middle;\n",
       "    }\n",
       "\n",
       "    .dataframe tbody tr th {\n",
       "        vertical-align: top;\n",
       "    }\n",
       "\n",
       "    .dataframe thead th {\n",
       "        text-align: right;\n",
       "    }\n",
       "</style>\n",
       "<table border=\"1\" class=\"dataframe\">\n",
       "  <thead>\n",
       "    <tr style=\"text-align: right;\">\n",
       "      <th></th>\n",
       "      <th>match_id</th>\n",
       "      <th>period_1</th>\n",
       "      <th>period_2</th>\n",
       "      <th>period_3</th>\n",
       "      <th>current_period_start_timestamp</th>\n",
       "      <th>estimated_time_set1</th>\n",
       "      <th>estimated_time_set2</th>\n",
       "      <th>estimated_time_set3</th>\n",
       "    </tr>\n",
       "  </thead>\n",
       "  <tbody>\n",
       "    <tr>\n",
       "      <th>1728</th>\n",
       "      <td>12061010</td>\n",
       "      <td>NaN</td>\n",
       "      <td>NaN</td>\n",
       "      <td>NaN</td>\n",
       "      <td>2/12/2024 10:09</td>\n",
       "      <td>1530.0</td>\n",
       "      <td>1620.0</td>\n",
       "      <td>480.0</td>\n",
       "    </tr>\n",
       "    <tr>\n",
       "      <th>1729</th>\n",
       "      <td>12061011</td>\n",
       "      <td>3056.0</td>\n",
       "      <td>NaN</td>\n",
       "      <td>NaN</td>\n",
       "      <td>2/12/2024 8:59</td>\n",
       "      <td>1740.0</td>\n",
       "      <td>1350.0</td>\n",
       "      <td>540.0</td>\n",
       "    </tr>\n",
       "    <tr>\n",
       "      <th>1735</th>\n",
       "      <td>12061037</td>\n",
       "      <td>4358.0</td>\n",
       "      <td>NaN</td>\n",
       "      <td>NaN</td>\n",
       "      <td>2/12/2024 9:21</td>\n",
       "      <td>2070.0</td>\n",
       "      <td>1710.0</td>\n",
       "      <td>540.0</td>\n",
       "    </tr>\n",
       "    <tr>\n",
       "      <th>2910</th>\n",
       "      <td>12079496</td>\n",
       "      <td>3077.0</td>\n",
       "      <td>2561.0</td>\n",
       "      <td>NaN</td>\n",
       "      <td>2/19/2024 7:04</td>\n",
       "      <td>1650.0</td>\n",
       "      <td>1470.0</td>\n",
       "      <td>330.0</td>\n",
       "    </tr>\n",
       "    <tr>\n",
       "      <th>2919</th>\n",
       "      <td>12079597</td>\n",
       "      <td>NaN</td>\n",
       "      <td>NaN</td>\n",
       "      <td>NaN</td>\n",
       "      <td>2/19/2024 7:10</td>\n",
       "      <td>1740.0</td>\n",
       "      <td>1590.0</td>\n",
       "      <td>720.0</td>\n",
       "    </tr>\n",
       "    <tr>\n",
       "      <th>4228</th>\n",
       "      <td>12101879</td>\n",
       "      <td>2322.0</td>\n",
       "      <td>2441.0</td>\n",
       "      <td>NaN</td>\n",
       "      <td>2/26/2024 5:34</td>\n",
       "      <td>1260.0</td>\n",
       "      <td>1260.0</td>\n",
       "      <td>480.0</td>\n",
       "    </tr>\n",
       "    <tr>\n",
       "      <th>4230</th>\n",
       "      <td>12101884</td>\n",
       "      <td>NaN</td>\n",
       "      <td>NaN</td>\n",
       "      <td>NaN</td>\n",
       "      <td>2/26/2024 9:16</td>\n",
       "      <td>1200.0</td>\n",
       "      <td>3270.0</td>\n",
       "      <td>450.0</td>\n",
       "    </tr>\n",
       "    <tr>\n",
       "      <th>4408</th>\n",
       "      <td>12106046</td>\n",
       "      <td>NaN</td>\n",
       "      <td>NaN</td>\n",
       "      <td>NaN</td>\n",
       "      <td>2/27/2024 12:11</td>\n",
       "      <td>3000.0</td>\n",
       "      <td>3420.0</td>\n",
       "      <td>960.0</td>\n",
       "    </tr>\n",
       "    <tr>\n",
       "      <th>4410</th>\n",
       "      <td>12106048</td>\n",
       "      <td>NaN</td>\n",
       "      <td>NaN</td>\n",
       "      <td>NaN</td>\n",
       "      <td>2/27/2024 12:08</td>\n",
       "      <td>5160.0</td>\n",
       "      <td>3900.0</td>\n",
       "      <td>960.0</td>\n",
       "    </tr>\n",
       "    <tr>\n",
       "      <th>4411</th>\n",
       "      <td>12106053</td>\n",
       "      <td>NaN</td>\n",
       "      <td>NaN</td>\n",
       "      <td>NaN</td>\n",
       "      <td>2/27/2024 12:15</td>\n",
       "      <td>4680.0</td>\n",
       "      <td>3420.0</td>\n",
       "      <td>1080.0</td>\n",
       "    </tr>\n",
       "    <tr>\n",
       "      <th>4669</th>\n",
       "      <td>12106312</td>\n",
       "      <td>2747.0</td>\n",
       "      <td>NaN</td>\n",
       "      <td>NaN</td>\n",
       "      <td>2/28/2024 9:11</td>\n",
       "      <td>1680.0</td>\n",
       "      <td>1260.0</td>\n",
       "      <td>450.0</td>\n",
       "    </tr>\n",
       "    <tr>\n",
       "      <th>4708</th>\n",
       "      <td>12110081</td>\n",
       "      <td>NaN</td>\n",
       "      <td>NaN</td>\n",
       "      <td>NaN</td>\n",
       "      <td>2/28/2024 7:29</td>\n",
       "      <td>1830.0</td>\n",
       "      <td>1320.0</td>\n",
       "      <td>600.0</td>\n",
       "    </tr>\n",
       "    <tr>\n",
       "      <th>7531</th>\n",
       "      <td>12144183</td>\n",
       "      <td>NaN</td>\n",
       "      <td>NaN</td>\n",
       "      <td>NaN</td>\n",
       "      <td>3/10/2024 14:07</td>\n",
       "      <td>3060.0</td>\n",
       "      <td>2820.0</td>\n",
       "      <td>960.0</td>\n",
       "    </tr>\n",
       "  </tbody>\n",
       "</table>\n",
       "</div>"
      ],
      "text/plain": [
       "      match_id  period_1  period_2  period_3 current_period_start_timestamp  \\\n",
       "1728  12061010       NaN       NaN       NaN                2/12/2024 10:09   \n",
       "1729  12061011    3056.0       NaN       NaN                 2/12/2024 8:59   \n",
       "1735  12061037    4358.0       NaN       NaN                 2/12/2024 9:21   \n",
       "2910  12079496    3077.0    2561.0       NaN                 2/19/2024 7:04   \n",
       "2919  12079597       NaN       NaN       NaN                 2/19/2024 7:10   \n",
       "4228  12101879    2322.0    2441.0       NaN                 2/26/2024 5:34   \n",
       "4230  12101884       NaN       NaN       NaN                 2/26/2024 9:16   \n",
       "4408  12106046       NaN       NaN       NaN                2/27/2024 12:11   \n",
       "4410  12106048       NaN       NaN       NaN                2/27/2024 12:08   \n",
       "4411  12106053       NaN       NaN       NaN                2/27/2024 12:15   \n",
       "4669  12106312    2747.0       NaN       NaN                 2/28/2024 9:11   \n",
       "4708  12110081       NaN       NaN       NaN                 2/28/2024 7:29   \n",
       "7531  12144183       NaN       NaN       NaN                3/10/2024 14:07   \n",
       "\n",
       "      estimated_time_set1  estimated_time_set2  estimated_time_set3  \n",
       "1728               1530.0               1620.0                480.0  \n",
       "1729               1740.0               1350.0                540.0  \n",
       "1735               2070.0               1710.0                540.0  \n",
       "2910               1650.0               1470.0                330.0  \n",
       "2919               1740.0               1590.0                720.0  \n",
       "4228               1260.0               1260.0                480.0  \n",
       "4230               1200.0               3270.0                450.0  \n",
       "4408               3000.0               3420.0                960.0  \n",
       "4410               5160.0               3900.0                960.0  \n",
       "4411               4680.0               3420.0               1080.0  \n",
       "4669               1680.0               1260.0                450.0  \n",
       "4708               1830.0               1320.0                600.0  \n",
       "7531               3060.0               2820.0                960.0  "
      ]
     },
     "execution_count": 87,
     "metadata": {},
     "output_type": "execute_result"
    }
   ],
   "source": [
    "match_time_df[(match_time_df['match_id'].isin(match_tiebreak_ids)) &\n",
    "              (match_time_df['period_3'].isnull())]    #These matches are not incomplete, these are called super tiebreaks"
   ]
  },
  {
   "cell_type": "code",
   "execution_count": 88,
   "metadata": {},
   "outputs": [],
   "source": [
    "#Find which matche's result are 2-0 (so time period 3 can be null)\n",
    "awaywin_two_sets = away_score_df[(away_score_df['current_score'] == 2) &\n",
    "                                    (away_score_df['display_score'] == 2) &\n",
    "                                    (away_score_df['period_1'].notna()) &\n",
    "                                    (away_score_df['period_2'].notna())]['match_id'].unique().tolist()\n",
    "\n",
    "\n",
    "homewin_two_sets = home_score_df[(home_score_df['current_score'] == 2) &\n",
    "                                    (home_score_df['display_score'] == 2) &\n",
    "                                    (home_score_df['period_1'].notna()) &\n",
    "                                    (home_score_df['period_2'].notna())]['match_id'].unique().tolist()"
   ]
  },
  {
   "cell_type": "code",
   "execution_count": 89,
   "metadata": {},
   "outputs": [],
   "source": [
    "#Find which matches result are 2-0 (so time period 3 can be null)\n",
    "awaywin_two_sets_in_row = home_score_df[home_score_df['match_id'].isin(awaywin_two_sets) &\n",
    "                                        (home_score_df['current_score'] == 0) &\n",
    "                                        (home_score_df['display_score'] == 0)]['match_id'].unique().tolist()\n",
    "\n",
    "homewin_two_sets_in_row = away_score_df[away_score_df['match_id'].isin(homewin_two_sets) &\n",
    "                                        (away_score_df['current_score'] == 0) &\n",
    "                                        (away_score_df['display_score'] == 0)]['match_id'].unique().tolist()"
   ]
  },
  {
   "cell_type": "code",
   "execution_count": 90,
   "metadata": {},
   "outputs": [],
   "source": [
    "all_two_zero_matches = (set(awaywin_two_sets_in_row).union(set(homewin_two_sets_in_row)))"
   ]
  },
  {
   "cell_type": "markdown",
   "metadata": {},
   "source": [
    "#### Find and Fill Null Values in Period Columns"
   ]
  },
  {
   "cell_type": "code",
   "execution_count": 91,
   "metadata": {},
   "outputs": [],
   "source": [
    "#ّFill null values with estimated time\n",
    "match_time_df['period_1'] = match_time_df['period_1'].fillna(match_time_df['estimated_time_set1'])\n",
    "match_time_df['period_2'] = match_time_df['period_2'].fillna(match_time_df['estimated_time_set2'])\n",
    "match_time_df['period_3'] = match_time_df['period_3'].fillna(match_time_df['estimated_time_set3'])\n"
   ]
  },
  {
   "cell_type": "code",
   "execution_count": 92,
   "metadata": {},
   "outputs": [],
   "source": [
    "#Drop matches which all periods are null\n",
    "match_time_df = match_time_df[~((match_time_df['period_1'].isnull()) &\n",
    "                                (match_time_df['period_2'].isnull()) &\n",
    "                                (match_time_df['period_3'].isnull()))]"
   ]
  },
  {
   "cell_type": "markdown",
   "metadata": {},
   "source": [
    "So far we find matches with 2-0 result from home/away score dataframe so 3rd set did not played and recorded as 0."
   ]
  },
  {
   "cell_type": "code",
   "execution_count": 93,
   "metadata": {},
   "outputs": [],
   "source": [
    "condition = ((match_time_df['match_id'].isin(homewin_two_sets_in_row)) |\n",
    "             (match_time_df['match_id'].isin(awaywin_two_sets_in_row)))\n",
    "\n",
    "match_time_df.loc[condition, 'period_3'] = 0"
   ]
  },
  {
   "cell_type": "code",
   "execution_count": 94,
   "metadata": {},
   "outputs": [],
   "source": [
    "#Drop unnecessary columns\n",
    "match_time_df = match_time_df.drop(columns=[col for col in match_time_df.columns if 'estimate' in col])"
   ]
  },
  {
   "cell_type": "markdown",
   "metadata": {},
   "source": [
    "#### Calculate Matches Duration"
   ]
  },
  {
   "cell_type": "code",
   "execution_count": 95,
   "metadata": {},
   "outputs": [],
   "source": [
    "cols = [col for col in match_time_df.columns if col != \"date\"]\n",
    "match_time_df = match_time_df.drop_duplicates(subset = cols)"
   ]
  },
  {
   "cell_type": "code",
   "execution_count": 96,
   "metadata": {},
   "outputs": [],
   "source": [
    "# match_time_df['total_duration'] = match_time_df[['period_1', 'period_2', 'period_3']].sum(axis=1, skipna=True)\n",
    "match_time_df.loc[:, 'total_duration'] = match_time_df[['period_1', 'period_2', 'period_3']].sum(axis=1, skipna=True)\n"
   ]
  },
  {
   "cell_type": "code",
   "execution_count": 97,
   "metadata": {},
   "outputs": [
    {
     "data": {
      "text/plain": [
       "np.float64(13204.0)"
      ]
     },
     "execution_count": 97,
     "metadata": {},
     "output_type": "execute_result"
    }
   ],
   "source": [
    "#Longest match duration\n",
    "match_time_df['total_duration'].max()"
   ]
  },
  {
   "cell_type": "code",
   "execution_count": 98,
   "metadata": {},
   "outputs": [
    {
     "data": {
      "text/html": [
       "<div>\n",
       "<style scoped>\n",
       "    .dataframe tbody tr th:only-of-type {\n",
       "        vertical-align: middle;\n",
       "    }\n",
       "\n",
       "    .dataframe tbody tr th {\n",
       "        vertical-align: top;\n",
       "    }\n",
       "\n",
       "    .dataframe thead th {\n",
       "        text-align: right;\n",
       "    }\n",
       "</style>\n",
       "<table border=\"1\" class=\"dataframe\">\n",
       "  <thead>\n",
       "    <tr style=\"text-align: right;\">\n",
       "      <th></th>\n",
       "      <th>match_id</th>\n",
       "      <th>period_1</th>\n",
       "      <th>period_2</th>\n",
       "      <th>period_3</th>\n",
       "      <th>current_period_start_timestamp</th>\n",
       "      <th>total_duration</th>\n",
       "    </tr>\n",
       "  </thead>\n",
       "  <tbody>\n",
       "    <tr>\n",
       "      <th>295</th>\n",
       "      <td>12024245</td>\n",
       "      <td>4564.0</td>\n",
       "      <td>3502.0</td>\n",
       "      <td>5138.0</td>\n",
       "      <td>2/3/2024 11:54</td>\n",
       "      <td>13204.0</td>\n",
       "    </tr>\n",
       "    <tr>\n",
       "      <th>1256</th>\n",
       "      <td>12046963</td>\n",
       "      <td>4428.0</td>\n",
       "      <td>4763.0</td>\n",
       "      <td>3723.0</td>\n",
       "      <td>2/7/2024 17:48</td>\n",
       "      <td>12914.0</td>\n",
       "    </tr>\n",
       "    <tr>\n",
       "      <th>2730</th>\n",
       "      <td>12072523</td>\n",
       "      <td>4045.0</td>\n",
       "      <td>3946.0</td>\n",
       "      <td>4771.0</td>\n",
       "      <td>2/16/2024 15:23</td>\n",
       "      <td>12762.0</td>\n",
       "    </tr>\n",
       "  </tbody>\n",
       "</table>\n",
       "</div>"
      ],
      "text/plain": [
       "      match_id  period_1  period_2  period_3 current_period_start_timestamp  \\\n",
       "295   12024245    4564.0    3502.0    5138.0                 2/3/2024 11:54   \n",
       "1256  12046963    4428.0    4763.0    3723.0                 2/7/2024 17:48   \n",
       "2730  12072523    4045.0    3946.0    4771.0                2/16/2024 15:23   \n",
       "\n",
       "      total_duration  \n",
       "295          13204.0  \n",
       "1256         12914.0  \n",
       "2730         12762.0  "
      ]
     },
     "execution_count": 98,
     "metadata": {},
     "output_type": "execute_result"
    }
   ],
   "source": [
    "duration_of_matches = match_time_df.sort_values('total_duration', ascending= False)\n",
    "duration_of_matches.head(3)"
   ]
  },
  {
   "cell_type": "code",
   "execution_count": 99,
   "metadata": {},
   "outputs": [
    {
     "data": {
      "text/html": [
       "<div>\n",
       "<style scoped>\n",
       "    .dataframe tbody tr th:only-of-type {\n",
       "        vertical-align: middle;\n",
       "    }\n",
       "\n",
       "    .dataframe tbody tr th {\n",
       "        vertical-align: top;\n",
       "    }\n",
       "\n",
       "    .dataframe thead th {\n",
       "        text-align: right;\n",
       "    }\n",
       "</style>\n",
       "<table border=\"1\" class=\"dataframe\">\n",
       "  <thead>\n",
       "    <tr style=\"text-align: right;\">\n",
       "      <th></th>\n",
       "      <th></th>\n",
       "      <th>game_id</th>\n",
       "      <th>point_id</th>\n",
       "      <th>home_score</th>\n",
       "    </tr>\n",
       "    <tr>\n",
       "      <th>match_id</th>\n",
       "      <th>set_id</th>\n",
       "      <th></th>\n",
       "      <th></th>\n",
       "      <th></th>\n",
       "    </tr>\n",
       "  </thead>\n",
       "  <tbody>\n",
       "    <tr>\n",
       "      <th rowspan=\"3\" valign=\"top\">12024245</th>\n",
       "      <th>1</th>\n",
       "      <td>13</td>\n",
       "      <td>11</td>\n",
       "      <td>6</td>\n",
       "    </tr>\n",
       "    <tr>\n",
       "      <th>2</th>\n",
       "      <td>9</td>\n",
       "      <td>10</td>\n",
       "      <td>6</td>\n",
       "    </tr>\n",
       "    <tr>\n",
       "      <th>3</th>\n",
       "      <td>13</td>\n",
       "      <td>11</td>\n",
       "      <td>6</td>\n",
       "    </tr>\n",
       "    <tr>\n",
       "      <th rowspan=\"3\" valign=\"top\">12046963</th>\n",
       "      <th>1</th>\n",
       "      <td>13</td>\n",
       "      <td>13</td>\n",
       "      <td>7</td>\n",
       "    </tr>\n",
       "    <tr>\n",
       "      <th>2</th>\n",
       "      <td>13</td>\n",
       "      <td>12</td>\n",
       "      <td>6</td>\n",
       "    </tr>\n",
       "    <tr>\n",
       "      <th>3</th>\n",
       "      <td>10</td>\n",
       "      <td>10</td>\n",
       "      <td>6</td>\n",
       "    </tr>\n",
       "    <tr>\n",
       "      <th rowspan=\"3\" valign=\"top\">12072523</th>\n",
       "      <th>1</th>\n",
       "      <td>13</td>\n",
       "      <td>10</td>\n",
       "      <td>7</td>\n",
       "    </tr>\n",
       "    <tr>\n",
       "      <th>2</th>\n",
       "      <td>12</td>\n",
       "      <td>8</td>\n",
       "      <td>5</td>\n",
       "    </tr>\n",
       "    <tr>\n",
       "      <th>3</th>\n",
       "      <td>13</td>\n",
       "      <td>13</td>\n",
       "      <td>6</td>\n",
       "    </tr>\n",
       "  </tbody>\n",
       "</table>\n",
       "</div>"
      ],
      "text/plain": [
       "                 game_id  point_id  home_score\n",
       "match_id set_id                               \n",
       "12024245 1            13        11           6\n",
       "         2             9        10           6\n",
       "         3            13        11           6\n",
       "12046963 1            13        13           7\n",
       "         2            13        12           6\n",
       "         3            10        10           6\n",
       "12072523 1            13        10           7\n",
       "         2            12         8           5\n",
       "         3            13        13           6"
      ]
     },
     "execution_count": 99,
     "metadata": {},
     "output_type": "execute_result"
    }
   ],
   "source": [
    "#Three longest matches\n",
    "longest_matches_ids = [12024245, 12046963, 12072523]\n",
    "longest_matches = game_info_df[game_info_df['match_id'].isin(longest_matches_ids)]\n",
    "longest_matches.groupby(['match_id', 'set_id'])[['game_id', 'point_id', 'home_score']].max()\n"
   ]
  },
  {
   "cell_type": "markdown",
   "metadata": {},
   "source": [
    "#### Save Clean Dataframe"
   ]
  },
  {
   "cell_type": "code",
   "execution_count": 100,
   "metadata": {},
   "outputs": [],
   "source": [
    "# match_time_df.to_csv('D:/Trains/tennis_project/data/output/clean_match_time.csv')"
   ]
  },
  {
   "cell_type": "markdown",
   "metadata": {},
   "source": [
    "Longest match duration is about to **3 hours and 45 minutes**. Three longest match played tiebreak and this is the reason why those match took too long. And Also all these three recorded in ITF tournaments and match play in  hardcourt. Final Result was 2-1 in favor of away team.\n",
    "\n",
    "**The clay court surface slows down the ball**, forcing players to engage in longer rallies.This type of court makes the game slower and more defensive, causing games to generally last longer. This match, which has the longest duration, took place in the **quarterfinal** round, and its high level of intensity led to the extended playing time.\n",
    "\n",
    "| Players               |  Set Number  |  Game Number |   Duration   |Ground Type      |Tournament category | Has Break                 \n",
    "|-----------------------|--------------|--------------|--------------|-----------------|--------------------|---------------\n",
    "| Federico Iannaccone   |     set 1    |   tiebreak   | 1 h, 15 min  |Hardcourt outdoor|ITF Men             |  True               \n",
    "|   Egor Agafonov       |     set 2    |       9      |   58 min     |                 |                    |\n",
    "|                       |     set 3    |   tiebreak   | 1 h, 25 min  |                 |                    |\n"
   ]
  },
  {
   "cell_type": "code",
   "execution_count": 101,
   "metadata": {},
   "outputs": [
    {
     "data": {
      "text/html": [
       "<div>\n",
       "<style scoped>\n",
       "    .dataframe tbody tr th:only-of-type {\n",
       "        vertical-align: middle;\n",
       "    }\n",
       "\n",
       "    .dataframe tbody tr th {\n",
       "        vertical-align: top;\n",
       "    }\n",
       "\n",
       "    .dataframe thead th {\n",
       "        text-align: right;\n",
       "    }\n",
       "</style>\n",
       "<table border=\"1\" class=\"dataframe\">\n",
       "  <thead>\n",
       "    <tr style=\"text-align: right;\">\n",
       "      <th></th>\n",
       "      <th>match_id</th>\n",
       "      <th>fix_full_name</th>\n",
       "      <th>winner_code</th>\n",
       "      <th>is_winner</th>\n",
       "      <th>player_type</th>\n",
       "    </tr>\n",
       "  </thead>\n",
       "  <tbody>\n",
       "    <tr>\n",
       "      <th>1241</th>\n",
       "      <td>12024245</td>\n",
       "      <td>Iannaccone, Federico</td>\n",
       "      <td>2.0</td>\n",
       "      <td>0</td>\n",
       "      <td>home</td>\n",
       "    </tr>\n",
       "    <tr>\n",
       "      <th>1243</th>\n",
       "      <td>12024245</td>\n",
       "      <td>Agafonov, Egor</td>\n",
       "      <td>2.0</td>\n",
       "      <td>1</td>\n",
       "      <td>away</td>\n",
       "    </tr>\n",
       "  </tbody>\n",
       "</table>\n",
       "</div>"
      ],
      "text/plain": [
       "      match_id         fix_full_name  winner_code  is_winner player_type\n",
       "1241  12024245  Iannaccone, Federico          2.0          0        home\n",
       "1243  12024245        Agafonov, Egor          2.0          1        away"
      ]
     },
     "execution_count": 101,
     "metadata": {},
     "output_type": "execute_result"
    }
   ],
   "source": [
    "event_df[event_df['match_id']== 12024245]"
   ]
  },
  {
   "cell_type": "markdown",
   "metadata": {},
   "source": [
    "_____________________"
   ]
  },
  {
   "cell_type": "markdown",
   "metadata": {},
   "source": [
    "# **5. Number of Sets Played in Matches**"
   ]
  },
  {
   "cell_type": "markdown",
   "metadata": {},
   "source": [
    "#### Load Data"
   ]
  },
  {
   "cell_type": "code",
   "execution_count": 102,
   "metadata": {},
   "outputs": [],
   "source": [
    "power_df = pd.read_csv('D:/Trains/tennis_project/data/input/power_info.csv')"
   ]
  },
  {
   "cell_type": "markdown",
   "metadata": {},
   "source": [
    "#### Find Null Values"
   ]
  },
  {
   "cell_type": "code",
   "execution_count": 103,
   "metadata": {},
   "outputs": [
    {
     "data": {
      "text/plain": [
       "match_id          0\n",
       "set_num           0\n",
       "game_num          0\n",
       "value             0\n",
       "break_occurred    0\n",
       "date              0\n",
       "dtype: int64"
      ]
     },
     "execution_count": 103,
     "metadata": {},
     "output_type": "execute_result"
    }
   ],
   "source": [
    "power_df.isnull().sum()"
   ]
  },
  {
   "cell_type": "markdown",
   "metadata": {},
   "source": [
    "#### Drop Duplicated Rows"
   ]
  },
  {
   "cell_type": "code",
   "execution_count": 104,
   "metadata": {},
   "outputs": [],
   "source": [
    "cols = [col for col in power_df.columns if col not in ['date']]\n",
    "power_df = power_df.drop_duplicates(subset= cols, keep= 'last')"
   ]
  },
  {
   "cell_type": "markdown",
   "metadata": {},
   "source": [
    "#### Maximum Played Sets in Each Match"
   ]
  },
  {
   "cell_type": "code",
   "execution_count": 105,
   "metadata": {},
   "outputs": [
    {
     "data": {
      "text/html": [
       "<div>\n",
       "<style scoped>\n",
       "    .dataframe tbody tr th:only-of-type {\n",
       "        vertical-align: middle;\n",
       "    }\n",
       "\n",
       "    .dataframe tbody tr th {\n",
       "        vertical-align: top;\n",
       "    }\n",
       "\n",
       "    .dataframe thead th {\n",
       "        text-align: right;\n",
       "    }\n",
       "</style>\n",
       "<table border=\"1\" class=\"dataframe\">\n",
       "  <thead>\n",
       "    <tr style=\"text-align: right;\">\n",
       "      <th></th>\n",
       "      <th>max_set</th>\n",
       "      <th>count</th>\n",
       "    </tr>\n",
       "  </thead>\n",
       "  <tbody>\n",
       "    <tr>\n",
       "      <th>0</th>\n",
       "      <td>1</td>\n",
       "      <td>131</td>\n",
       "    </tr>\n",
       "    <tr>\n",
       "      <th>1</th>\n",
       "      <td>2</td>\n",
       "      <td>7638</td>\n",
       "    </tr>\n",
       "    <tr>\n",
       "      <th>2</th>\n",
       "      <td>3</td>\n",
       "      <td>3352</td>\n",
       "    </tr>\n",
       "  </tbody>\n",
       "</table>\n",
       "</div>"
      ],
      "text/plain": [
       "   max_set  count\n",
       "0        1    131\n",
       "1        2   7638\n",
       "2        3   3352"
      ]
     },
     "execution_count": 105,
     "metadata": {},
     "output_type": "execute_result"
    }
   ],
   "source": [
    "max_set = power_df.groupby('match_id', as_index= False).agg(max_set = ('set_num', 'max'))\n",
    "max_set_count = max_set['max_set'].value_counts().to_frame().sort_values('max_set').reset_index()\n",
    "max_set_count"
   ]
  },
  {
   "cell_type": "markdown",
   "metadata": {},
   "source": [
    "#### Find Super Tiebreaks"
   ]
  },
  {
   "cell_type": "code",
   "execution_count": 106,
   "metadata": {},
   "outputs": [],
   "source": [
    "super_tiebreaks = (power_df.groupby(['match_id', 'set_num'], as_index= False)\n",
    "                   .agg(max_game = ('game_num', 'max')))\n",
    "\n",
    "super_tiebreaks_list = super_tiebreaks[(super_tiebreaks['set_num'] == 3) &\n",
    "                                       (super_tiebreaks['max_game'] == 1)]['match_id'].unique().tolist()"
   ]
  },
  {
   "cell_type": "markdown",
   "metadata": {},
   "source": [
    "#### Find Incomplete Matches"
   ]
  },
  {
   "cell_type": "code",
   "execution_count": 107,
   "metadata": {},
   "outputs": [],
   "source": [
    "without_super_tiebreak = power_df[~power_df['match_id'].isin(super_tiebreaks_list)]\n",
    "groupby_games = (without_super_tiebreak.groupby(['match_id', 'set_num'], as_index= False)\n",
    "                                       .agg(max_game = ('game_num', 'max')))\n",
    "\n",
    "incomplete_games = groupby_games[(groupby_games['max_game'] < 6)]['match_id'].unique().tolist()"
   ]
  },
  {
   "cell_type": "markdown",
   "metadata": {},
   "source": [
    "#### Count Matches Without Incomplete Matches"
   ]
  },
  {
   "cell_type": "code",
   "execution_count": 108,
   "metadata": {},
   "outputs": [],
   "source": [
    "typical_play_set = max_set[~(max_set['match_id'].isin(incomplete_games)) &\n",
    "                           ~(max_set['max_set'] == 1)]"
   ]
  },
  {
   "cell_type": "code",
   "execution_count": 109,
   "metadata": {},
   "outputs": [
    {
     "data": {
      "text/html": [
       "<div>\n",
       "<style scoped>\n",
       "    .dataframe tbody tr th:only-of-type {\n",
       "        vertical-align: middle;\n",
       "    }\n",
       "\n",
       "    .dataframe tbody tr th {\n",
       "        vertical-align: top;\n",
       "    }\n",
       "\n",
       "    .dataframe thead th {\n",
       "        text-align: right;\n",
       "    }\n",
       "</style>\n",
       "<table border=\"1\" class=\"dataframe\">\n",
       "  <thead>\n",
       "    <tr style=\"text-align: right;\">\n",
       "      <th></th>\n",
       "      <th>max_set</th>\n",
       "      <th>count</th>\n",
       "    </tr>\n",
       "  </thead>\n",
       "  <tbody>\n",
       "    <tr>\n",
       "      <th>0</th>\n",
       "      <td>2</td>\n",
       "      <td>7483</td>\n",
       "    </tr>\n",
       "    <tr>\n",
       "      <th>1</th>\n",
       "      <td>3</td>\n",
       "      <td>3309</td>\n",
       "    </tr>\n",
       "  </tbody>\n",
       "</table>\n",
       "</div>"
      ],
      "text/plain": [
       "   max_set  count\n",
       "0        2   7483\n",
       "1        3   3309"
      ]
     },
     "execution_count": 109,
     "metadata": {},
     "output_type": "execute_result"
    }
   ],
   "source": [
    "#Number of sets were matche playe full time \n",
    "typical_play_set_count = typical_play_set['max_set'].value_counts().to_frame().sort_values('max_set').reset_index()\n",
    "typical_play_set_count"
   ]
  },
  {
   "cell_type": "markdown",
   "metadata": {},
   "source": [
    "#### Figure "
   ]
  },
  {
   "cell_type": "code",
   "execution_count": 110,
   "metadata": {},
   "outputs": [],
   "source": [
    "merged_df = max_set_count.merge(typical_play_set_count, on='max_set', how='left', suffixes=('_total', '_typical'))\n",
    "merged_df['count_typical'] = merged_df['count_typical'].fillna(0)\n"
   ]
  },
  {
   "cell_type": "code",
   "execution_count": 111,
   "metadata": {},
   "outputs": [],
   "source": [
    "merged_df['cancelled_plays'] = merged_df['count_total'] - merged_df['count_typical']\n",
    "merged_df['super_tiebreak'] = 0\n",
    "merged_df.loc[2, 'super_tiebreak'] = merged_df.loc[2, 'super_tiebreak'] + len(super_tiebreaks_list)\n",
    "merged_df.loc[2, 'count_typical'] = merged_df.loc[2, 'count_typical'] - len(super_tiebreaks_list)"
   ]
  },
  {
   "cell_type": "code",
   "execution_count": 112,
   "metadata": {},
   "outputs": [
    {
     "data": {
      "text/html": [
       "<div>\n",
       "<style scoped>\n",
       "    .dataframe tbody tr th:only-of-type {\n",
       "        vertical-align: middle;\n",
       "    }\n",
       "\n",
       "    .dataframe tbody tr th {\n",
       "        vertical-align: top;\n",
       "    }\n",
       "\n",
       "    .dataframe thead th {\n",
       "        text-align: right;\n",
       "    }\n",
       "</style>\n",
       "<table border=\"1\" class=\"dataframe\">\n",
       "  <thead>\n",
       "    <tr style=\"text-align: right;\">\n",
       "      <th></th>\n",
       "      <th>max_set</th>\n",
       "      <th>count_total</th>\n",
       "      <th>count_typical</th>\n",
       "      <th>cancelled_plays</th>\n",
       "      <th>super_tiebreak</th>\n",
       "    </tr>\n",
       "  </thead>\n",
       "  <tbody>\n",
       "    <tr>\n",
       "      <th>0</th>\n",
       "      <td>1</td>\n",
       "      <td>131</td>\n",
       "      <td>0.0</td>\n",
       "      <td>131.0</td>\n",
       "      <td>0</td>\n",
       "    </tr>\n",
       "    <tr>\n",
       "      <th>1</th>\n",
       "      <td>2</td>\n",
       "      <td>7638</td>\n",
       "      <td>7483.0</td>\n",
       "      <td>155.0</td>\n",
       "      <td>0</td>\n",
       "    </tr>\n",
       "    <tr>\n",
       "      <th>2</th>\n",
       "      <td>3</td>\n",
       "      <td>3352</td>\n",
       "      <td>2841.0</td>\n",
       "      <td>43.0</td>\n",
       "      <td>468</td>\n",
       "    </tr>\n",
       "  </tbody>\n",
       "</table>\n",
       "</div>"
      ],
      "text/plain": [
       "   max_set  count_total  count_typical  cancelled_plays  super_tiebreak\n",
       "0        1          131            0.0            131.0               0\n",
       "1        2         7638         7483.0            155.0               0\n",
       "2        3         3352         2841.0             43.0             468"
      ]
     },
     "execution_count": 112,
     "metadata": {},
     "output_type": "execute_result"
    }
   ],
   "source": [
    "merged_df"
   ]
  },
  {
   "cell_type": "code",
   "execution_count": 113,
   "metadata": {},
   "outputs": [],
   "source": [
    "labels = merged_df['max_set'].astype(str)\n",
    "total_counts = merged_df['count_total']\n",
    "typical_counts = merged_df['count_typical']\n",
    "canceled_counts = merged_df['cancelled_plays']\n",
    "tiebreak_count = merged_df['super_tiebreak']\n"
   ]
  },
  {
   "cell_type": "code",
   "execution_count": 114,
   "metadata": {},
   "outputs": [
    {
     "data": {
      "image/png": "[encoded data removed]",
      "text/plain": [
       "<Figure size 800x600 with 1 Axes>"
      ]
     },
     "metadata": {},
     "output_type": "display_data"
    }
   ],
   "source": [
    "x = np.arange(len(labels))\n",
    "height = 0.6\n",
    "\n",
    "fig, ax = plt.subplots(figsize = (8, 6))\n",
    "\n",
    "ax.barh(x, typical_counts, height = 0.3, label='Typical Plays', color='#3B9C3F')\n",
    "ax.barh(x, canceled_counts, height = 0.3, left=typical_counts, label='Cancelled Plays', color='#782A90')\n",
    "ax.barh(x, tiebreak_count, height = 0.3, left=typical_counts, label='Super Tiebreaks ', color='#E76F51')\n",
    "\n",
    "ax.set_yticks(x)\n",
    "ax.set_yticklabels(labels)\n",
    "ax.set_ylabel('Max Sets Played in Match', loc='bottom', color='#6C757D', weight='bold', fontsize=12)\n",
    "ax.set_xlabel('Number of Matches', loc='left', color='#6C757D', weight='bold', fontsize=12)\n",
    "ax.set_title('Number of Sets typically Played in Match', loc='left', color='#6C757D', weight='bold', fontsize=14)\n",
    "ax.tick_params(axis='x', which='both', length=0)\n",
    "ax.grid(axis='y', visible=False)\n",
    "ax.set_yticklabels(['1st Set', '2nd Set', '3rd Set'])\n",
    "ax.spines[['bottom', 'left']].set_visible(True)\n",
    "ax.spines[['bottom', 'left']].set_color('gray')\n",
    "ax.legend()\n",
    "# plt.savefig('D:/Trains/tennis_project/chart/number_of_sets.jpeg', dpi=300)\n",
    "plt.show();"
   ]
  },
  {
   "cell_type": "markdown",
   "metadata": {},
   "source": [
    "#### Figure of Super Tiebreak and Cancelled Matches"
   ]
  },
  {
   "cell_type": "code",
   "execution_count": 115,
   "metadata": {},
   "outputs": [
    {
     "data": {
      "image/png": "[encoded data removed]",
      "text/plain": [
       "<Figure size 800x600 with 1 Axes>"
      ]
     },
     "metadata": {},
     "output_type": "display_data"
    }
   ],
   "source": [
    "fig, ax = plt.subplots(figsize=(8, 6))\n",
    "\n",
    "ax.barh(x, canceled_counts, height=0.3, label='Cancelled Plays', color='#782A90')\n",
    "ax.barh(x, tiebreak_count, height=0.3, left=canceled_counts, label='Super Tiebreaks', color='#E76F51')\n",
    "\n",
    "ax.set_yticks(x)\n",
    "ax.set_yticklabels(labels)\n",
    "ax.set_ylabel('Max Sets Played in Match', loc='bottom', color='#6C757D', weight='bold', fontsize=12)\n",
    "ax.set_xlabel('Number of Matches', loc='left', color='#6C757D', weight='bold', fontsize=12)\n",
    "ax.set_title('Number of Cancelled Plays and Super Tiebreaks', loc='left', color='#6C757D', weight='bold', fontsize=14)\n",
    "ax.tick_params(axis='x', which='both', length=0)\n",
    "ax.grid(axis='y', visible=False)\n",
    "ax.set_yticklabels(['1st Set', '2nd Set', '3rd Set'])\n",
    "ax.spines[['bottom', 'left']].set_visible(True)\n",
    "ax.spines[['bottom', 'left']].set_color('gray')\n",
    "ax.legend()\n",
    "# plt.savefig('D:/Trains/tennis_project/chart/cancelled_and_tiebreaks.jpeg', dpi=300)\n",
    "plt.show()"
   ]
  },
  {
   "cell_type": "markdown",
   "metadata": {},
   "source": [
    "Out of a total of 11,121 matches played, 468 were decided by a super tiebreak.\n",
    "Some matches were incomplete due to various reasons, most of which were abandoned during the first set. These accounted for 1% of all matches.\n",
    "Among the matches that were completed, **67% concluded in the second set, while 30% were played as three-set matches**."
   ]
  },
  {
   "cell_type": "markdown",
   "metadata": {},
   "source": [
    "# **6. Most Successful Player Nationality**"
   ]
  },
  {
   "cell_type": "markdown",
   "metadata": {},
   "source": [
    "#### Count Players of Each Country"
   ]
  },
  {
   "cell_type": "code",
   "execution_count": 116,
   "metadata": {},
   "outputs": [],
   "source": [
    "#Find unique players and their nationality\n",
    "unique_players = home_away_team[['fix_full_name', 'country']].drop_duplicates()"
   ]
  },
  {
   "cell_type": "code",
   "execution_count": 117,
   "metadata": {},
   "outputs": [],
   "source": [
    "avg_rank_per_country = (home_away_team.groupby('country', as_index= False)['current_rank']\n",
    "                                      .agg(['min', 'max', 'mean'])\n",
    "                                      .rename(columns = {'min': 'min_rank', 'max': 'max_rank', 'mean': 'average_rank'}))"
   ]
  },
  {
   "cell_type": "code",
   "execution_count": 118,
   "metadata": {},
   "outputs": [
    {
     "data": {
      "text/html": [
       "<div>\n",
       "<style scoped>\n",
       "    .dataframe tbody tr th:only-of-type {\n",
       "        vertical-align: middle;\n",
       "    }\n",
       "\n",
       "    .dataframe tbody tr th {\n",
       "        vertical-align: top;\n",
       "    }\n",
       "\n",
       "    .dataframe thead th {\n",
       "        text-align: right;\n",
       "    }\n",
       "</style>\n",
       "<table border=\"1\" class=\"dataframe\">\n",
       "  <thead>\n",
       "    <tr style=\"text-align: right;\">\n",
       "      <th></th>\n",
       "      <th>country</th>\n",
       "      <th>player_count</th>\n",
       "    </tr>\n",
       "  </thead>\n",
       "  <tbody>\n",
       "    <tr>\n",
       "      <th>93</th>\n",
       "      <td>USA</td>\n",
       "      <td>225</td>\n",
       "    </tr>\n",
       "    <tr>\n",
       "      <th>44</th>\n",
       "      <td>Italy</td>\n",
       "      <td>206</td>\n",
       "    </tr>\n",
       "    <tr>\n",
       "      <th>31</th>\n",
       "      <td>France</td>\n",
       "      <td>202</td>\n",
       "    </tr>\n",
       "    <tr>\n",
       "      <th>78</th>\n",
       "      <td>Russia</td>\n",
       "      <td>137</td>\n",
       "    </tr>\n",
       "    <tr>\n",
       "      <th>47</th>\n",
       "      <td>Japan</td>\n",
       "      <td>124</td>\n",
       "    </tr>\n",
       "  </tbody>\n",
       "</table>\n",
       "</div>"
      ],
      "text/plain": [
       "   country  player_count\n",
       "93     USA           225\n",
       "44   Italy           206\n",
       "31  France           202\n",
       "78  Russia           137\n",
       "47   Japan           124"
      ]
     },
     "execution_count": 118,
     "metadata": {},
     "output_type": "execute_result"
    }
   ],
   "source": [
    "player_count_per_country = (unique_players.groupby('country', as_index= False)\n",
    "                            .agg(player_count = ('fix_full_name', 'count'))\n",
    "                            .sort_values('player_count', ascending =False))\n",
    "player_count_per_country.head(5)"
   ]
  },
  {
   "cell_type": "code",
   "execution_count": 119,
   "metadata": {},
   "outputs": [
    {
     "data": {
      "text/html": [
       "<div>\n",
       "<style scoped>\n",
       "    .dataframe tbody tr th:only-of-type {\n",
       "        vertical-align: middle;\n",
       "    }\n",
       "\n",
       "    .dataframe tbody tr th {\n",
       "        vertical-align: top;\n",
       "    }\n",
       "\n",
       "    .dataframe thead th {\n",
       "        text-align: right;\n",
       "    }\n",
       "</style>\n",
       "<table border=\"1\" class=\"dataframe\">\n",
       "  <thead>\n",
       "    <tr style=\"text-align: right;\">\n",
       "      <th></th>\n",
       "      <th>country</th>\n",
       "      <th>player_count</th>\n",
       "      <th>min_rank</th>\n",
       "      <th>max_rank</th>\n",
       "      <th>average_rank</th>\n",
       "    </tr>\n",
       "  </thead>\n",
       "  <tbody>\n",
       "    <tr>\n",
       "      <th>0</th>\n",
       "      <td>USA</td>\n",
       "      <td>225</td>\n",
       "      <td>3.0</td>\n",
       "      <td>1498.0</td>\n",
       "      <td>536.835762</td>\n",
       "    </tr>\n",
       "    <tr>\n",
       "      <th>1</th>\n",
       "      <td>Italy</td>\n",
       "      <td>206</td>\n",
       "      <td>2.0</td>\n",
       "      <td>1578.0</td>\n",
       "      <td>753.391930</td>\n",
       "    </tr>\n",
       "    <tr>\n",
       "      <th>2</th>\n",
       "      <td>France</td>\n",
       "      <td>202</td>\n",
       "      <td>14.0</td>\n",
       "      <td>1633.0</td>\n",
       "      <td>617.159564</td>\n",
       "    </tr>\n",
       "    <tr>\n",
       "      <th>3</th>\n",
       "      <td>Russia</td>\n",
       "      <td>137</td>\n",
       "      <td>4.0</td>\n",
       "      <td>1635.0</td>\n",
       "      <td>628.203485</td>\n",
       "    </tr>\n",
       "    <tr>\n",
       "      <th>4</th>\n",
       "      <td>Japan</td>\n",
       "      <td>124</td>\n",
       "      <td>62.0</td>\n",
       "      <td>1453.0</td>\n",
       "      <td>671.764387</td>\n",
       "    </tr>\n",
       "  </tbody>\n",
       "</table>\n",
       "</div>"
      ],
      "text/plain": [
       "  country  player_count  min_rank  max_rank  average_rank\n",
       "0     USA           225       3.0    1498.0    536.835762\n",
       "1   Italy           206       2.0    1578.0    753.391930\n",
       "2  France           202      14.0    1633.0    617.159564\n",
       "3  Russia           137       4.0    1635.0    628.203485\n",
       "4   Japan           124      62.0    1453.0    671.764387"
      ]
     },
     "execution_count": 119,
     "metadata": {},
     "output_type": "execute_result"
    }
   ],
   "source": [
    "final_player_count = player_count_per_country.merge(avg_rank_per_country, on = 'country', how = 'left')\n",
    "final_player_count.sort_values('player_count', ascending= False).head(5)"
   ]
  },
  {
   "cell_type": "markdown",
   "metadata": {},
   "source": [
    "**The United States** with 225 players, had the highest number of participants in these tournaments.\n",
    "\n",
    "Italy, with 206 players, and France with 202 players, ranked second and third, respectively."
   ]
  },
  {
   "cell_type": "markdown",
   "metadata": {},
   "source": [
    "________________________"
   ]
  },
  {
   "cell_type": "code",
   "execution_count": 120,
   "metadata": {},
   "outputs": [],
   "source": [
    "# event_df.to_csv('D:/Trains/tennis_project/data/output/clean_event.csv', index= False)"
   ]
  },
  {
   "cell_type": "code",
   "execution_count": 121,
   "metadata": {},
   "outputs": [],
   "source": [
    "# home_away_team.to_csv('D:/Trains/tennis_project/data/output/home_away_team.csv', index= False)"
   ]
  }
 ],
 "metadata": {
  "kernelspec": {
   "display_name": "Python 3",
   "language": "python",
   "name": "python3"
  },
  "language_info": {
   "codemirror_mode": {
    "name": "ipython",
    "version": 3
   },
   "file_extension": ".py",
   "mimetype": "text/x-python",
   "name": "python",
   "nbconvert_exporter": "python",
   "pygments_lexer": "ipython3",
   "version": "3.12.8"
  }
 },
 "nbformat": 4,
 "nbformat_minor": 2
}
